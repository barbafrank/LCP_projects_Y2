{
 "cells": [
  {
   "cell_type": "code",
   "execution_count": 1,
   "metadata": {},
   "outputs": [],
   "source": [
    "# change the cwd\n",
    "import os\n",
    "os.chdir(os.getcwd()+\"/HLP_Project/\")"
   ]
  },
  {
   "cell_type": "code",
   "execution_count": 2,
   "metadata": {},
   "outputs": [],
   "source": [
    "# use cython compiled modules for faster execution\n",
    "from libs.cython.pyx.edgelistParser import edgelistParser\n",
    "from libs.cython.pyx.utils import list2matrix, getInOutDegree\n",
    "from libs.cython.cpp.pageRankCpp import cppLocalPageRank as localPageRank\n",
    "from libs.cython.cpp.pageRankCpp import cppLocalPageRank_weight as localPageRank_weight"
   ]
  },
  {
   "cell_type": "code",
   "execution_count": 3,
   "metadata": {},
   "outputs": [],
   "source": [
    "import numpy as np\n",
    "from matplotlib import pyplot as plt\n",
    "from scipy.optimize import curve_fit\n",
    "import datetime"
   ]
  },
  {
   "cell_type": "code",
   "execution_count": 4,
   "metadata": {},
   "outputs": [],
   "source": [
    "_ = \"\"\"\n",
    "Dataset Types\n",
    "../datasets/facebook/*.edges -> raw_list\n",
    "../datasets/facebook_combined.txt -> list\n",
    "../datasets/p2p-Gnutella31.txt -> list\n",
    "../datasets/Wiki-Vote.txt -> list\n",
    "../datasets/CA-HepPh.txt -> raw_list\n",
    "../datasets/com-dblp.ungraph.txt -> list\n",
    "../datasets/Email-Enron.txt -> raw_list\n",
    "../datasets/Email-EuAll.txt -> list\n",
    "\"\"\""
   ]
  },
  {
   "cell_type": "code",
   "execution_count": 5,
   "metadata": {},
   "outputs": [],
   "source": [
    "_ = \"\"\"\n",
    "../datasets/facebook/0.edges -> N = 333\n",
    "../datasets/facebook/107.edges -> N = 1034\n",
    "../datasets/facebook/348.edges -> N = 224\n",
    "../datasets/facebook/414.edges -> N = 150\n",
    "../datasets/facebook/686.edges -> N = 168\n",
    "../datasets/facebook/698.edges -> N = 61\n",
    "../datasets/facebook/1684.edges -> N = 786\n",
    "../datasets/facebook/1912.edges -> N = 747\n",
    "../datasets/facebook/3437.edges -> N = 534\n",
    "../datasets/facebook/3980.edges -> N = 52\n",
    "../datasets/facebook_combined.txt -> N = 4039\n",
    "../datasets/p2p-Gnutella31.txt -> N = 62586\n",
    "../datasets/Wiki-Vote.txt -> N = 7115\n",
    "../datasets/CA-HepPh.txt -> N = 12008\n",
    "../datasets/com-dblp.ungraph.txt -> N = 317080\n",
    "../datasets/Email-Enron.txt -> N = 36692\n",
    "../datasets/Email-EuAll.txt -> N = 265214\n",
    "\"\"\""
   ]
  },
  {
   "cell_type": "code",
   "execution_count": 6,
   "metadata": {},
   "outputs": [],
   "source": [
    "datasets = [\"../datasets/facebook/3980.edges\",\n",
    "            \"../datasets/facebook/698.edges\",\n",
    "            \"../datasets/facebook/414.edges\",\n",
    "            \"../datasets/facebook/686.edges\",\n",
    "            \"../datasets/facebook/348.edges\",\n",
    "            \"../datasets/facebook/0.edges\",\n",
    "            \"../datasets/facebook/3437.edges\",\n",
    "            \"../datasets/facebook/1912.edges\",\n",
    "            \"../datasets/facebook/1684.edges\",\n",
    "            \"../datasets/facebook/107.edges\",\n",
    "            \"../datasets/facebook_combined.txt\",\n",
    "            \"../datasets/Wiki-Vote.txt\",\n",
    "            \"../datasets/CA-HepPh.txt\",\n",
    "            \"../datasets/Email-Enron.txt\",\n",
    "            \"../datasets/p2p-Gnutella31.txt\",\n",
    "            \"../datasets/Email-EuAll.txt\",\n",
    "            \"../datasets/com-dblp.ungraph.txt\"]\n",
    "list_types = [\"raw_list\"]*10 + \\\n",
    "             [\"list\",\n",
    "              \"list\",\n",
    "              \"raw_list\",\n",
    "              \"raw_list\",\n",
    "              \"list\",\n",
    "              \"list\",\n",
    "              \"list\"]"
   ]
  },
  {
   "cell_type": "code",
   "execution_count": 7,
   "metadata": {},
   "outputs": [
    {
     "name": "stdout",
     "output_type": "stream",
     "text": [
      "Num Datasets: 17\n"
     ]
    }
   ],
   "source": [
    "print(\"Num Datasets:\", len(datasets))"
   ]
  },
  {
   "cell_type": "code",
   "execution_count": 8,
   "metadata": {},
   "outputs": [],
   "source": [
    "Ns = [0]*len(datasets)\n",
    "avgDegs = [0.]*len(datasets)\n",
    "unweigted_times = [None]*len(datasets)\n",
    "weigted_times = [None]*len(datasets)"
   ]
  },
  {
   "cell_type": "code",
   "execution_count": 21,
   "metadata": {},
   "outputs": [],
   "source": [
    "idx = 3\n",
    "dataset = datasets[idx]\n",
    "list_type = list_types[idx]"
   ]
  },
  {
   "cell_type": "code",
   "execution_count": 22,
   "metadata": {},
   "outputs": [],
   "source": [
    "# load a dataset, in both weighted and unweighted forms\n",
    "A_weighted, N, original_idxs = edgelistParser(dataset, list_type, True)\n",
    "A, _, _ = edgelistParser(dataset, list_type, False)"
   ]
  },
  {
   "cell_type": "code",
   "execution_count": 23,
   "metadata": {},
   "outputs": [
    {
     "name": "stdout",
     "output_type": "stream",
     "text": [
      "Nodes: 168, AvgDeg: 39.42857142857143\n"
     ]
    }
   ],
   "source": [
    "inDeg, _ = getInOutDegree(A_weighted)\n",
    "Ns[idx] = N\n",
    "avgDegs[idx] = np.array(inDeg).mean()\n",
    "print(\"Nodes:\", N, \"\\b, AvgDeg:\", avgDegs[idx])"
   ]
  },
  {
   "cell_type": "code",
   "execution_count": 24,
   "metadata": {},
   "outputs": [
    {
     "name": "stdout",
     "output_type": "stream",
     "text": [
      "Unweigted: 12.9 ms ± 76.1 µs per loop (mean ± std. dev. of 7 runs, 100 loops each)\n",
      "Weigted: 13.2 ms ± 58.4 µs per loop (mean ± std. dev. of 7 runs, 100 loops each)\n"
     ]
    }
   ],
   "source": [
    "unweigted_times[idx] = %timeit -o -q localPageRank(A, c=0.85, return_only_neighbours=True, epsilon=1e-5, max_iters=50)\n",
    "weigted_times[idx] = %timeit -o -q localPageRank_weight(A_weighted, c=0.85, return_only_neighbours=True, epsilon=1e-5, max_iters=50)\n",
    "\n",
    "print(\"Unweigted:\", unweigted_times[idx])\n",
    "print(\"Weigted:\", weigted_times[idx])"
   ]
  },
  {
   "cell_type": "code",
   "execution_count": 25,
   "metadata": {},
   "outputs": [
    {
     "name": "stdout",
     "output_type": "stream",
     "text": [
      "[<IPython.core.magics.execution.TimeitResult object at 0x10d3d4fd0>, <IPython.core.magics.execution.TimeitResult object at 0x10d3df400>, <IPython.core.magics.execution.TimeitResult object at 0x10d3ca470>, <IPython.core.magics.execution.TimeitResult object at 0x10d3f34a8>, None, None, None, None, None, None, None, None, None, None, None, None, None]\n",
      "[<IPython.core.magics.execution.TimeitResult object at 0x10d3df978>, <IPython.core.magics.execution.TimeitResult object at 0x10d3ca358>, <IPython.core.magics.execution.TimeitResult object at 0x10d402b38>, <IPython.core.magics.execution.TimeitResult object at 0x10d3f36a0>, None, None, None, None, None, None, None, None, None, None, None, None, None]\n"
     ]
    }
   ],
   "source": [
    "print(unweigted_times)\n",
    "print(weigted_times)"
   ]
  },
  {
   "cell_type": "code",
   "execution_count": null,
   "metadata": {},
   "outputs": [],
   "source": []
  }
 ],
 "metadata": {
  "kernelspec": {
   "display_name": "Python 3",
   "language": "python",
   "name": "python3"
  },
  "language_info": {
   "codemirror_mode": {
    "name": "ipython",
    "version": 3
   },
   "file_extension": ".py",
   "mimetype": "text/x-python",
   "name": "python",
   "nbconvert_exporter": "python",
   "pygments_lexer": "ipython3",
   "version": "3.7.1"
  }
 },
 "nbformat": 4,
 "nbformat_minor": 2
}
