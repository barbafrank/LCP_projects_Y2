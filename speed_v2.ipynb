{
 "cells": [
  {
   "cell_type": "code",
   "execution_count": 1,
   "metadata": {},
   "outputs": [],
   "source": [
    "# change the cwd\n",
    "import os\n",
    "os.chdir(os.getcwd()+\"/HLP_Project/\")"
   ]
  },
  {
   "cell_type": "code",
   "execution_count": 2,
   "metadata": {},
   "outputs": [],
   "source": [
    "# use cython compiled modules for faster execution\n",
    "from libs.cython.pyx.edgelistParser import edgelistParser\n",
    "from libs.cython.pyx.utils import list2matrix, getInOutDegree\n",
    "from libs.cython.cpp.pageRankCpp import cppLocalPageRank as localPageRank\n",
    "from libs.cython.cpp.pageRankCpp import cppLocalPageRank_weight as localPageRank_weight"
   ]
  },
  {
   "cell_type": "code",
   "execution_count": 3,
   "metadata": {},
   "outputs": [],
   "source": [
    "import numpy as np\n",
    "from matplotlib import pyplot as plt\n",
    "from scipy.optimize import curve_fit\n",
    "import datetime"
   ]
  },
  {
   "cell_type": "code",
   "execution_count": 47,
   "metadata": {},
   "outputs": [],
   "source": [
    "dataset = \"../datasets/Email-Enron.txt\""
   ]
  },
  {
   "cell_type": "code",
   "execution_count": 48,
   "metadata": {},
   "outputs": [],
   "source": [
    "# load a dataset, in both weighted and unweighted forms\n",
    "A_weighted, N, original_idxs = edgelistParser(dataset, \"raw_list\", True)\n",
    "A, _, _ = edgelistParser(dataset, \"raw_list\", False)"
   ]
  },
  {
   "cell_type": "code",
   "execution_count": 49,
   "metadata": {},
   "outputs": [
    {
     "name": "stdout",
     "output_type": "stream",
     "text": [
      "Nodes: 36692, AvgDeg: 20.040444783604055\n"
     ]
    }
   ],
   "source": [
    "inDeg, _ = getInOutDegree(A_weighted)\n",
    "print(\"Nodes:\", N, \"\\b, AvgDeg:\", np.array(inDeg).mean())"
   ]
  },
  {
   "cell_type": "code",
   "execution_count": 50,
   "metadata": {},
   "outputs": [
    {
     "name": "stdout",
     "output_type": "stream",
     "text": [
      "Unweighted:\n",
      "5.34 s ± 13.3 ms per loop (mean ± std. dev. of 7 runs, 1 loop each)\n",
      "Weigted:\n",
      "5.38 s ± 68.4 ms per loop (mean ± std. dev. of 7 runs, 1 loop each)\n"
     ]
    }
   ],
   "source": [
    "print(\"Unweighted:\")\n",
    "%timeit localPageRank(A, c=0.85, return_only_neighbours=True, epsilon=1e-5, max_iters=50)\n",
    "print(\"Weigted:\")\n",
    "%timeit localPageRank_weight(A_weighted, c=0.85, return_only_neighbours=True, epsilon=1e-5, max_iters=50)"
   ]
  },
  {
   "cell_type": "code",
   "execution_count": null,
   "metadata": {},
   "outputs": [],
   "source": [
    "\"\"\"\n",
    "Nodes: 333, AvgDeg: 30.25825825825826\n",
    "    Unweighted:\n",
    "    23.5 ms ± 450 µs per loop (mean ± std. dev. of 7 runs, 10 loops each)\n",
    "    Weigted:\n",
    "    24.8 ms ± 1.5 ms per loop (mean ± std. dev. of 7 runs, 10 loops each)\n",
    "\n",
    "Nodes: 1034, AvgDeg: 103.47775628626692\n",
    "    Unweighted:\n",
    "    127 ms ± 668 µs per loop (mean ± std. dev. of 7 runs, 10 loops each)\n",
    "    Weigted:\n",
    "    128 ms ± 447 µs per loop (mean ± std. dev. of 7 runs, 10 loops each)\n",
    "    \n",
    "Nodes: 224, AvgDeg: 57.0\n",
    "    Unweighted:\n",
    "    21.1 ms ± 205 µs per loop (mean ± std. dev. of 7 runs, 10 loops each)\n",
    "    Weigted:\n",
    "    22.7 ms ± 1.97 ms per loop (mean ± std. dev. of 7 runs, 10 loops each)\n",
    "\n",
    "Nodes: 150, AvgDeg: 45.14666666666667\n",
    "    Unweighted:\n",
    "    13.9 ms ± 50.7 µs per loop (mean ± std. dev. of 7 runs, 100 loops each)\n",
    "    Weigted:\n",
    "    14 ms ± 41.6 µs per loop (mean ± std. dev. of 7 runs, 100 loops each)\n",
    "\n",
    "Nodes: 168, AvgDeg: 39.42857142857143\n",
    "    Unweighted:\n",
    "    13 ms ± 76.9 µs per loop (mean ± std. dev. of 7 runs, 100 loops each)\n",
    "    Weigted:\n",
    "    13.2 ms ± 73.7 µs per loop (mean ± std. dev. of 7 runs, 100 loops each)\n",
    "\n",
    "Nodes: 61, AvgDeg: 17.704918032786885\n",
    "    Unweighted:\n",
    "    3.5 ms ± 15.2 µs per loop (mean ± std. dev. of 7 runs, 100 loops each)\n",
    "    Weigted:\n",
    "    3.58 ms ± 15.4 µs per loop (mean ± std. dev. of 7 runs, 100 loops each)\n",
    "\n",
    "Nodes: 786, AvgDeg: 71.36895674300254\n",
    "    Unweighted:\n",
    "    83.7 ms ± 289 µs per loop (mean ± std. dev. of 7 runs, 10 loops each)\n",
    "    Weigted:\n",
    "    85 ms ± 247 µs per loop (mean ± std. dev. of 7 runs, 10 loops each)\n",
    "\n",
    "Nodes: 747, AvgDeg: 160.7764390896921\n",
    "    Unweighted:\n",
    "    101 ms ± 422 µs per loop (mean ± std. dev. of 7 runs, 10 loops each)\n",
    "    Weigted:\n",
    "    101 ms ± 285 µs per loop (mean ± std. dev. of 7 runs, 10 loops each)\n",
    "\n",
    "Nodes: 534, AvgDeg: 36.052434456928836\n",
    "    Unweighted:\n",
    "    41.8 ms ± 380 µs per loop (mean ± std. dev. of 7 runs, 10 loops each)\n",
    "    Weigted:\n",
    "    42.6 ms ± 384 µs per loop (mean ± std. dev. of 7 runs, 10 loops each)\n",
    "\n",
    "Nodes: 52, AvgDeg: 11.23076923076923\n",
    "    Unweighted:\n",
    "    2.42 ms ± 10.4 µs per loop (mean ± std. dev. of 7 runs, 100 loops each)\n",
    "    Weigted:\n",
    "    2.49 ms ± 15.8 µs per loop (mean ± std. dev. of 7 runs, 100 loops each)\n",
    "\n",
    "Nodes: 4039, AvgDeg: 43.69101262688784\n",
    "    Unweighted:\n",
    "    382 ms ± 2.36 ms per loop (mean ± std. dev. of 7 runs, 1 loop each)\n",
    "    Weigted:\n",
    "    386 ms ± 2.76 ms per loop (mean ± std. dev. of 7 runs, 1 loop each)\n",
    "\n",
    "Nodes: 7115, AvgDeg: 29.146591707659873\n",
    "    Unweighted:\n",
    "    602 ms ± 3.1 ms per loop (mean ± std. dev. of 7 runs, 1 loop each)\n",
    "    Weigted:\n",
    "    592 ms ± 3.43 ms per loop (mean ± std. dev. of 7 runs, 1 loop each)\n",
    "\n",
    "Nodes: 62586, AvgDeg: 4.726040967628543\n",
    "    Unweighted:\n",
    "    7.72 s ± 98.4 ms per loop (mean ± std. dev. of 7 runs, 1 loop each)\n",
    "    Weigted:\n",
    "    7.77 s ± 96.1 ms per loop (mean ± std. dev. of 7 runs, 1 loop each)\n",
    "\n",
    "Nodes: 12008, AvgDeg: 39.472684876748836\n",
    "    Unweighted:\n",
    "    1.1 s ± 3.9 ms per loop (mean ± std. dev. of 7 runs, 1 loop each)\n",
    "    Weigted:\n",
    "    1.1 s ± 4.42 ms per loop (mean ± std. dev. of 7 runs, 1 loop each)\n",
    "\n",
    "Nodes: 36692, AvgDeg: 20.040444783604055\n",
    "    Unweighted:\n",
    "    5.34 s ± 13.3 ms per loop (mean ± std. dev. of 7 runs, 1 loop each)\n",
    "    Weigted:\n",
    "    5.38 s ± 68.4 ms per loop (mean ± std. dev. of 7 runs, 1 loop each)\n",
    "\n",
    "\n",
    "\n",
    "\n",
    "\n",
    "\n",
    "\"\"\""
   ]
  },
  {
   "cell_type": "code",
   "execution_count": null,
   "metadata": {},
   "outputs": [],
   "source": []
  }
 ],
 "metadata": {
  "kernelspec": {
   "display_name": "Python 3",
   "language": "python",
   "name": "python3"
  },
  "language_info": {
   "codemirror_mode": {
    "name": "ipython",
    "version": 3
   },
   "file_extension": ".py",
   "mimetype": "text/x-python",
   "name": "python",
   "nbconvert_exporter": "python",
   "pygments_lexer": "ipython3",
   "version": "3.7.1"
  }
 },
 "nbformat": 4,
 "nbformat_minor": 2
}
