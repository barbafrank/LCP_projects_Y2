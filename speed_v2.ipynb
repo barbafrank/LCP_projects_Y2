{
 "cells": [
  {
   "cell_type": "code",
   "execution_count": 1,
   "metadata": {},
   "outputs": [],
   "source": [
    "# change the cwd\n",
    "import os\n",
    "os.chdir(os.getcwd()+\"/HLP_Project/\")"
   ]
  },
  {
   "cell_type": "code",
   "execution_count": 2,
   "metadata": {},
   "outputs": [],
   "source": [
    "# use cython compiled modules for faster execution\n",
    "from libs.cython.pyx.edgelistParser import edgelistParser\n",
    "from libs.cython.pyx.utils import list2matrix, getInOutDegree\n",
    "from libs.cython.cpp.pageRankCpp import cppLocalPageRank as localPageRank\n",
    "from libs.cython.cpp.pageRankCpp import cppLocalPageRank_weight as localPageRank_weight"
   ]
  },
  {
   "cell_type": "code",
   "execution_count": 3,
   "metadata": {},
   "outputs": [],
   "source": [
    "import numpy as np\n",
    "from matplotlib import pyplot as plt\n",
    "from scipy.optimize import curve_fit\n",
    "import datetime"
   ]
  },
  {
   "cell_type": "code",
   "execution_count": 4,
   "metadata": {},
   "outputs": [],
   "source": [
    "_ = \"\"\"\n",
    "Dataset Types\n",
    "../datasets/facebook/*.edges -> raw_list\n",
    "../datasets/facebook_combined.txt -> list\n",
    "../datasets/p2p-Gnutella31.txt -> list\n",
    "../datasets/Wiki-Vote.txt -> list\n",
    "../datasets/CA-HepPh.txt -> raw_list\n",
    "../datasets/com-dblp.ungraph.txt -> list\n",
    "../datasets/Email-Enron.txt -> raw_list\n",
    "../datasets/Email-EuAll.txt -> list\n",
    "\"\"\""
   ]
  },
  {
   "cell_type": "code",
   "execution_count": 5,
   "metadata": {},
   "outputs": [],
   "source": [
    "dataset = \"../datasets/facebook/0.edges\"\n",
    "list_type = \"raw_list\""
   ]
  },
  {
   "cell_type": "code",
   "execution_count": 6,
   "metadata": {},
   "outputs": [],
   "source": [
    "# load a dataset, in both weighted and unweighted forms\n",
    "A_weighted, N, original_idxs = edgelistParser(dataset, list_type, True)\n",
    "A, _, _ = edgelistParser(dataset, list_type, False)"
   ]
  },
  {
   "cell_type": "code",
   "execution_count": 7,
   "metadata": {},
   "outputs": [
    {
     "name": "stdout",
     "output_type": "stream",
     "text": [
      "Nodes: 333, AvgDeg: 30.25825825825826\n"
     ]
    }
   ],
   "source": [
    "inDeg, _ = getInOutDegree(A_weighted)\n",
    "print(\"Nodes:\", N, \"\\b, AvgDeg:\", np.array(inDeg).mean())"
   ]
  },
  {
   "cell_type": "code",
   "execution_count": 8,
   "metadata": {},
   "outputs": [
    {
     "name": "stdout",
     "output_type": "stream",
     "text": [
      "Unweighted:\n",
      "25.6 ms ± 1.33 ms per loop (mean ± std. dev. of 7 runs, 10 loops each)\n",
      "Weigted:\n",
      "23.9 ms ± 327 µs per loop (mean ± std. dev. of 7 runs, 10 loops each)\n"
     ]
    }
   ],
   "source": [
    "print(\"Unweighted:\")\n",
    "%timeit localPageRank(A, c=0.85, return_only_neighbours=True, epsilon=1e-5, max_iters=50)\n",
    "print(\"Weigted:\")\n",
    "%timeit localPageRank_weight(A_weighted, c=0.85, return_only_neighbours=True, epsilon=1e-5, max_iters=50)"
   ]
  },
  {
   "cell_type": "code",
   "execution_count": null,
   "metadata": {},
   "outputs": [],
   "source": [
    "_ = \"\"\"\n",
    "Nodes: 333, AvgDeg: 30.25825825825826\n",
    "    Unweighted:\n",
    "    25.6 ms ± 1.33 ms per loop (mean ± std. dev. of 7 runs, 10 loops each)\n",
    "    Weigted:\n",
    "    23.9 ms ± 327 µs per loop (mean ± std. dev. of 7 runs, 10 loops each)\n",
    "\n",
    "\n",
    "\n",
    "\"\"\""
   ]
  },
  {
   "cell_type": "code",
   "execution_count": null,
   "metadata": {},
   "outputs": [],
   "source": []
  }
 ],
 "metadata": {
  "kernelspec": {
   "display_name": "Python 3",
   "language": "python",
   "name": "python3"
  },
  "language_info": {
   "codemirror_mode": {
    "name": "ipython",
    "version": 3
   },
   "file_extension": ".py",
   "mimetype": "text/x-python",
   "name": "python",
   "nbconvert_exporter": "python",
   "pygments_lexer": "ipython3",
   "version": "3.7.1"
  }
 },
 "nbformat": 4,
 "nbformat_minor": 2
}
