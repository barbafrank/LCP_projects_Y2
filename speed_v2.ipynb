{
 "cells": [
  {
   "cell_type": "code",
   "execution_count": 1,
   "metadata": {},
   "outputs": [],
   "source": [
    "# change the cwd\n",
    "import os\n",
    "os.chdir(os.getcwd()+\"/HLP_Project/\")"
   ]
  },
  {
   "cell_type": "code",
   "execution_count": 2,
   "metadata": {},
   "outputs": [],
   "source": [
    "# use cython compiled modules for faster execution\n",
    "from libs.cython.pyx.edgelistParser import edgelistParser\n",
    "from libs.cython.pyx.utils import list2matrix, getInOutDegree\n",
    "from libs.cython.cpp.pageRankCpp import cppLocalPageRank as localPageRank\n",
    "from libs.cython.cpp.pageRankCpp import cppLocalPageRank_weight as localPageRank_weight"
   ]
  },
  {
   "cell_type": "code",
   "execution_count": 3,
   "metadata": {},
   "outputs": [],
   "source": [
    "import numpy as np\n",
    "from matplotlib import pyplot as plt\n",
    "from scipy.optimize import curve_fit\n",
    "import datetime"
   ]
  },
  {
   "cell_type": "code",
   "execution_count": 4,
   "metadata": {},
   "outputs": [],
   "source": [
    "_ = \"\"\"\n",
    "Dataset Types\n",
    "../datasets/facebook/*.edges -> raw_list\n",
    "../datasets/facebook_combined.txt -> list\n",
    "../datasets/p2p-Gnutella31.txt -> list\n",
    "../datasets/Wiki-Vote.txt -> list\n",
    "../datasets/CA-HepPh.txt -> raw_list\n",
    "../datasets/com-dblp.ungraph.txt -> list\n",
    "../datasets/Email-Enron.txt -> raw_list\n",
    "../datasets/Email-EuAll.txt -> list\n",
    "\"\"\""
   ]
  },
  {
   "cell_type": "code",
   "execution_count": 5,
   "metadata": {},
   "outputs": [],
   "source": [
    "_ = \"\"\"\n",
    "../datasets/facebook/0.edges -> N = 333\n",
    "../datasets/facebook/107.edges -> N = 1034\n",
    "../datasets/facebook/348.edges -> N = 224\n",
    "../datasets/facebook/414.edges -> N = 150\n",
    "../datasets/facebook/686.edges -> N = 168\n",
    "../datasets/facebook/698.edges -> N = 61\n",
    "../datasets/facebook/1684.edges -> N = 786\n",
    "../datasets/facebook/1912.edges -> N = 747\n",
    "../datasets/facebook/3437.edges -> N = 534\n",
    "../datasets/facebook/3980.edges -> N = 52\n",
    "../datasets/facebook_combined.txt -> N = 4039\n",
    "../datasets/p2p-Gnutella31.txt -> N = 62586\n",
    "../datasets/Wiki-Vote.txt -> N = 7115\n",
    "../datasets/CA-HepPh.txt -> N = 12008\n",
    "../datasets/com-dblp.ungraph.txt -> N = 317080\n",
    "../datasets/Email-Enron.txt -> N = 36692\n",
    "../datasets/Email-EuAll.txt -> N = 265214\n",
    "\"\"\""
   ]
  },
  {
   "cell_type": "code",
   "execution_count": 6,
   "metadata": {},
   "outputs": [],
   "source": [
    "datasets = [\"../datasets/facebook/3980.edges\",\n",
    "            \"../datasets/facebook/698.edges\",\n",
    "            \"../datasets/facebook/414.edges\",\n",
    "            \"../datasets/facebook/686.edges\",\n",
    "            \"../datasets/facebook/348.edges\",\n",
    "            \"../datasets/facebook/0.edges\",\n",
    "            \"../datasets/facebook/3437.edges\",\n",
    "            \"../datasets/facebook/1912.edges\",\n",
    "            \"../datasets/facebook/1684.edges\",\n",
    "            \"../datasets/facebook/107.edges\",\n",
    "            \"../datasets/facebook_combined.txt\",\n",
    "            \"../datasets/Wiki-Vote.txt\",\n",
    "            \"../datasets/CA-HepPh.txt\",\n",
    "            \"../datasets/Email-Enron.txt\",\n",
    "            \"../datasets/p2p-Gnutella31.txt\",\n",
    "            \"../datasets/Email-EuAll.txt\",\n",
    "            \"../datasets/com-dblp.ungraph.txt\"]\n",
    "list_types = [\"raw_list\"]*10 + \\\n",
    "             [\"list\",\n",
    "              \"list\",\n",
    "              \"raw_list\",\n",
    "              \"raw_list\",\n",
    "              \"list\",\n",
    "              \"list\",\n",
    "              \"list\"]"
   ]
  },
  {
   "cell_type": "code",
   "execution_count": 7,
   "metadata": {},
   "outputs": [],
   "source": [
    "idx = 0\n",
    "dataset = datasets[idx]\n",
    "list_type = list_types[idx]"
   ]
  },
  {
   "cell_type": "code",
   "execution_count": 8,
   "metadata": {},
   "outputs": [],
   "source": [
    "# load a dataset, in both weighted and unweighted forms\n",
    "A_weighted, N, original_idxs = edgelistParser(dataset, list_type, True)\n",
    "A, _, _ = edgelistParser(dataset, list_type, False)"
   ]
  },
  {
   "cell_type": "code",
   "execution_count": 9,
   "metadata": {},
   "outputs": [
    {
     "name": "stdout",
     "output_type": "stream",
     "text": [
      "Nodes: 52, AvgDeg: 11.23076923076923\n"
     ]
    }
   ],
   "source": [
    "inDeg, _ = getInOutDegree(A_weighted)\n",
    "print(\"Nodes:\", N, \"\\b, AvgDeg:\", np.array(inDeg).mean())"
   ]
  },
  {
   "cell_type": "code",
   "execution_count": 10,
   "metadata": {},
   "outputs": [
    {
     "name": "stdout",
     "output_type": "stream",
     "text": [
      "Unweighted:\n",
      "2.45 ms ± 77.2 µs per loop (mean ± std. dev. of 7 runs, 100 loops each)\n",
      "Weigted:\n",
      "2.8 ms ± 246 µs per loop (mean ± std. dev. of 7 runs, 100 loops each)\n"
     ]
    }
   ],
   "source": [
    "print(\"Unweighted:\")\n",
    "%timeit localPageRank(A, c=0.85, return_only_neighbours=True, epsilon=1e-5, max_iters=50)\n",
    "print(\"Weigted:\")\n",
    "%timeit localPageRank_weight(A_weighted, c=0.85, return_only_neighbours=True, epsilon=1e-5, max_iters=50)"
   ]
  },
  {
   "cell_type": "code",
   "execution_count": 10,
   "metadata": {},
   "outputs": [],
   "source": [
    "_ = \"\"\"\n",
    "Nodes: 52, AvgDeg: 11.23076923076923\n",
    "    Unweighted:\n",
    "    2.45 ms ± 77.2 µs per loop (mean ± std. dev. of 7 runs, 100 loops each)\n",
    "    Weigted:\n",
    "    2.8 ms ± 246 µs per loop (mean ± std. dev. of 7 runs, 100 loops each)\n",
    "\n",
    "\n",
    "\n",
    "\"\"\""
   ]
  },
  {
   "cell_type": "code",
   "execution_count": null,
   "metadata": {},
   "outputs": [],
   "source": []
  }
 ],
 "metadata": {
  "kernelspec": {
   "display_name": "Python 3",
   "language": "python",
   "name": "python3"
  },
  "language_info": {
   "codemirror_mode": {
    "name": "ipython",
    "version": 3
   },
   "file_extension": ".py",
   "mimetype": "text/x-python",
   "name": "python",
   "nbconvert_exporter": "python",
   "pygments_lexer": "ipython3",
   "version": "3.7.1"
  }
 },
 "nbformat": 4,
 "nbformat_minor": 2
}
