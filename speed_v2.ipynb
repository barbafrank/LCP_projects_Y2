{
 "cells": [
  {
   "cell_type": "code",
   "execution_count": 1,
   "metadata": {},
   "outputs": [],
   "source": [
    "# change the cwd\n",
    "import os\n",
    "os.chdir(os.getcwd()+\"/HLP_Project/\")"
   ]
  },
  {
   "cell_type": "code",
   "execution_count": 2,
   "metadata": {},
   "outputs": [],
   "source": [
    "# use cython compiled modules for faster execution\n",
    "from libs.cython.pyx.edgelistParser import edgelistParser\n",
    "from libs.cython.pyx.utils import list2matrix, getInOutDegree\n",
    "from libs.cython.cpp.pageRankCpp import cppLocalPageRank as localPageRank\n",
    "from libs.cython.cpp.pageRankCpp import cppLocalPageRank_weight as localPageRank_weight"
   ]
  },
  {
   "cell_type": "code",
   "execution_count": 3,
   "metadata": {},
   "outputs": [],
   "source": [
    "import numpy as np\n",
    "from matplotlib import pyplot as plt\n",
    "from scipy.optimize import curve_fit\n",
    "import datetime"
   ]
  },
  {
   "cell_type": "code",
   "execution_count": 4,
   "metadata": {},
   "outputs": [],
   "source": [
    "_ = \"\"\"\n",
    "Dataset Types\n",
    "../datasets/facebook/*.edges -> raw_list\n",
    "../datasets/facebook_combined.txt -> list\n",
    "../datasets/p2p-Gnutella31.txt -> list\n",
    "../datasets/Wiki-Vote.txt -> list\n",
    "../datasets/CA-HepPh.txt -> raw_list\n",
    "../datasets/com-dblp.ungraph.txt -> list\n",
    "../datasets/Email-Enron.txt -> raw_list\n",
    "../datasets/Email-EuAll.txt -> list\n",
    "\"\"\""
   ]
  },
  {
   "cell_type": "code",
   "execution_count": 5,
   "metadata": {},
   "outputs": [],
   "source": [
    "_ = \"\"\"\n",
    "../datasets/facebook/0.edges -> N = 333\n",
    "../datasets/facebook/107.edges -> N = 1034\n",
    "../datasets/facebook/348.edges -> N = 224\n",
    "../datasets/facebook/414.edges -> N = 150\n",
    "../datasets/facebook/686.edges -> N = 168\n",
    "../datasets/facebook/698.edges -> N = 61\n",
    "../datasets/facebook/1684.edges -> N = 786\n",
    "../datasets/facebook/1912.edges -> N = 747\n",
    "../datasets/facebook/3437.edges -> N = 534\n",
    "../datasets/facebook/3980.edges -> N = 52\n",
    "../datasets/facebook_combined.txt -> N = 4039\n",
    "../datasets/p2p-Gnutella31.txt -> N = 62586\n",
    "../datasets/Wiki-Vote.txt -> N = 7115\n",
    "../datasets/CA-HepPh.txt -> N = 12008\n",
    "../datasets/com-dblp.ungraph.txt -> N = 317080\n",
    "../datasets/Email-Enron.txt -> N = 36692\n",
    "../datasets/Email-EuAll.txt -> N = 265214\n",
    "\"\"\""
   ]
  },
  {
   "cell_type": "code",
   "execution_count": 6,
   "metadata": {},
   "outputs": [],
   "source": [
    "datasets = [\"../datasets/facebook/3980.edges\",\n",
    "            \"../datasets/facebook/698.edges\",\n",
    "            \"../datasets/facebook/414.edges\",\n",
    "            \"../datasets/facebook/686.edges\",\n",
    "            \"../datasets/facebook/348.edges\",\n",
    "            \"../datasets/facebook/0.edges\",\n",
    "            \"../datasets/facebook/3437.edges\",\n",
    "            \"../datasets/facebook/1912.edges\",\n",
    "            \"../datasets/facebook/1684.edges\",\n",
    "            \"../datasets/facebook/107.edges\",\n",
    "            \"../datasets/facebook_combined.txt\",\n",
    "            \"../datasets/Wiki-Vote.txt\",\n",
    "            \"../datasets/CA-HepPh.txt\",\n",
    "            \"../datasets/Email-Enron.txt\",\n",
    "            \"../datasets/p2p-Gnutella31.txt\",\n",
    "            \"../datasets/Email-EuAll.txt\",\n",
    "            \"../datasets/com-dblp.ungraph.txt\"]\n",
    "list_types = [\"raw_list\"]*10 + \\\n",
    "             [\"list\",\n",
    "              \"list\",\n",
    "              \"raw_list\",\n",
    "              \"raw_list\",\n",
    "              \"list\",\n",
    "              \"list\",\n",
    "              \"list\"]"
   ]
  },
  {
   "cell_type": "code",
   "execution_count": 7,
   "metadata": {},
   "outputs": [
    {
     "name": "stdout",
     "output_type": "stream",
     "text": [
      "Num Datasets: 17\n"
     ]
    }
   ],
   "source": [
    "print(\"Num Datasets:\", len(datasets))"
   ]
  },
  {
   "cell_type": "code",
   "execution_count": 8,
   "metadata": {},
   "outputs": [],
   "source": [
    "Ns = [0]*len(datasets)\n",
    "avgDegs = [0.]*len(datasets)\n",
    "unweigted_times = [None]*len(datasets)\n",
    "weigted_times = [None]*len(datasets)"
   ]
  },
  {
   "cell_type": "code",
   "execution_count": 9,
   "metadata": {},
   "outputs": [],
   "source": [
    "idx = 3\n",
    "dataset = datasets[idx]\n",
    "list_type = list_types[idx]"
   ]
  },
  {
   "cell_type": "code",
   "execution_count": 10,
   "metadata": {},
   "outputs": [],
   "source": [
    "# load a dataset, in both weighted and unweighted forms\n",
    "A_weighted, N, original_idxs = edgelistParser(dataset, list_type, True)\n",
    "A, _, _ = edgelistParser(dataset, list_type, False)"
   ]
  },
  {
   "cell_type": "code",
   "execution_count": 11,
   "metadata": {},
   "outputs": [
    {
     "name": "stdout",
     "output_type": "stream",
     "text": [
      "Nodes: 168 \b, AvgDeg: 39.42857142857143\n"
     ]
    }
   ],
   "source": [
    "inDeg, _ = getInOutDegree(A_weighted)\n",
    "Ns[idx] = N\n",
    "avgDegs[idx] = np.array(inDeg).mean()\n",
    "print(\"Nodes:\", N, \"\\b, AvgDeg:\", avgDegs[idx])"
   ]
  },
  {
   "cell_type": "code",
   "execution_count": 13,
   "metadata": {},
   "outputs": [
    {
     "name": "stdout",
     "output_type": "stream",
     "text": [
      "Unweigted: 8.36 ms ± 5.88 µs per loop (mean ± std. dev. of 7 runs, 100 loops each)\n",
      "Weigted: 33.9 ms ± 106 µs per loop (mean ± std. dev. of 7 runs, 10 loops each)\n"
     ]
    }
   ],
   "source": [
    "unweigted_times[idx] = %timeit -o -q localPageRank(A, c=0.85, return_only_neighbours=True, epsilon=1e-5, max_iters=50)\n",
    "weigted_times[idx] = %timeit -o -q localPageRank_weight(A_weighted, c=0.85, return_only_neighbours=True, epsilon=1e-5, max_iters=50)\n",
    "\n",
    "print(\"Unweigted:\", unweigted_times[idx])\n",
    "print(\"Weigted:\", weigted_times[idx])"
   ]
  },
  {
   "cell_type": "code",
   "execution_count": 14,
   "metadata": {},
   "outputs": [
    {
     "name": "stdout",
     "output_type": "stream",
     "text": [
      "[None, None, None, <IPython.core.magics.execution.TimeitResult object at 0x7efbf8217ed0>, None, None, None, None, None, None, None, None, None, None, None, None, None]\n",
      "[None, None, None, <IPython.core.magics.execution.TimeitResult object at 0x7efbd02ebc90>, None, None, None, None, None, None, None, None, None, None, None, None, None]\n"
     ]
    }
   ],
   "source": [
    "print(unweigted_times)\n",
    "print(weigted_times)"
   ]
  },
  {
   "cell_type": "code",
   "execution_count": 15,
   "metadata": {
    "scrolled": true
   },
   "outputs": [
    {
     "name": "stdout",
     "output_type": "stream",
     "text": [
      "Nodes: 52, AvgDeg: 11.23076923076923\n",
      "Unweigted: 1.23 ms ± 1.67 µs per loop (mean ± std. dev. of 7 runs, 1000 loops each)\n",
      "Weigted: 2.19 ms ± 1 µs per loop (mean ± std. dev. of 7 runs, 100 loops each)\n",
      "Nodes: 61, AvgDeg: 17.704918032786885\n",
      "Unweigted: 1.99 ms ± 1.84 µs per loop (mean ± std. dev. of 7 runs, 1000 loops each)\n",
      "Weigted: 3.98 ms ± 1.65 µs per loop (mean ± std. dev. of 7 runs, 100 loops each)\n",
      "Nodes: 150, AvgDeg: 45.14666666666667\n",
      "Unweigted: 9.44 ms ± 7.11 µs per loop (mean ± std. dev. of 7 runs, 100 loops each)\n",
      "Weigted: 36.5 ms ± 31.2 µs per loop (mean ± std. dev. of 7 runs, 10 loops each)\n",
      "Nodes: 168, AvgDeg: 39.42857142857143\n",
      "Unweigted: 8.33 ms ± 1 µs per loop (mean ± std. dev. of 7 runs, 100 loops each)\n",
      "Weigted: 33.7 ms ± 70.3 µs per loop (mean ± std. dev. of 7 runs, 10 loops each)\n",
      "Nodes: 224, AvgDeg: 57.0\n",
      "Unweigted: 13.9 ms ± 13.7 µs per loop (mean ± std. dev. of 7 runs, 100 loops each)\n",
      "Weigted: 74.9 ms ± 79.9 µs per loop (mean ± std. dev. of 7 runs, 10 loops each)\n",
      "Nodes: 333, AvgDeg: 30.25825825825826\n",
      "Unweigted: 14.3 ms ± 20.3 µs per loop (mean ± std. dev. of 7 runs, 100 loops each)\n",
      "Weigted: 52.5 ms ± 70.6 µs per loop (mean ± std. dev. of 7 runs, 10 loops each)\n",
      "Nodes: 534, AvgDeg: 36.052434456928836\n",
      "Unweigted: 26.3 ms ± 12.2 µs per loop (mean ± std. dev. of 7 runs, 10 loops each)\n",
      "Weigted: 95.7 ms ± 242 µs per loop (mean ± std. dev. of 7 runs, 10 loops each)\n",
      "Nodes: 747, AvgDeg: 160.7764390896921\n",
      "Unweigted: 67.4 ms ± 128 µs per loop (mean ± std. dev. of 7 runs, 10 loops each)\n",
      "Weigted: 1.13 s ± 1.71 ms per loop (mean ± std. dev. of 7 runs, 1 loop each)\n",
      "Nodes: 786, AvgDeg: 71.36895674300254\n",
      "Unweigted: 56.3 ms ± 25.5 µs per loop (mean ± std. dev. of 7 runs, 10 loops each)\n",
      "Weigted: 367 ms ± 568 µs per loop (mean ± std. dev. of 7 runs, 1 loop each)\n",
      "Nodes: 1034, AvgDeg: 103.47775628626692\n",
      "Unweigted: 85.9 ms ± 70.4 µs per loop (mean ± std. dev. of 7 runs, 10 loops each)\n",
      "Weigted: 840 ms ± 3.16 ms per loop (mean ± std. dev. of 7 runs, 1 loop each)\n",
      "Nodes: 4039, AvgDeg: 43.69101262688784\n",
      "Unweigted: 229 ms ± 477 µs per loop (mean ± std. dev. of 7 runs, 1 loop each)\n",
      "Weigted: 1.27 s ± 4.47 ms per loop (mean ± std. dev. of 7 runs, 1 loop each)\n",
      "Nodes: 7115, AvgDeg: 29.146591707659873\n",
      "Unweigted: 299 ms ± 567 µs per loop (mean ± std. dev. of 7 runs, 1 loop each)\n",
      "Weigted: 3.61 s ± 8.37 ms per loop (mean ± std. dev. of 7 runs, 1 loop each)\n",
      "Nodes: 12008, AvgDeg: 39.472684876748836\n",
      "Unweigted: 576 ms ± 965 µs per loop (mean ± std. dev. of 7 runs, 1 loop each)\n",
      "Weigted: 5.69 s ± 42 ms per loop (mean ± std. dev. of 7 runs, 1 loop each)\n",
      "Nodes: 36692, AvgDeg: 20.040444783604055\n",
      "Unweigted: 2.67 s ± 24 ms per loop (mean ± std. dev. of 7 runs, 1 loop each)\n",
      "Weigted: 30.6 s ± 186 ms per loop (mean ± std. dev. of 7 runs, 1 loop each)\n",
      "Nodes: 62586, AvgDeg: 4.726040967628543\n",
      "Unweigted: 1.7 s ± 13.8 ms per loop (mean ± std. dev. of 7 runs, 1 loop each)\n",
      "Weigted: 2.24 s ± 25.3 ms per loop (mean ± std. dev. of 7 runs, 1 loop each)\n",
      "Nodes: 265214, AvgDeg: 3.1634868445858815\n",
      "Unweigted: 42.9 s ± 843 ms per loop (mean ± std. dev. of 7 runs, 1 loop each)\n",
      "Weigted: 2min 58s ± 2.17 s per loop (mean ± std. dev. of 7 runs, 1 loop each)\n",
      "Nodes: 317080, AvgDeg: 6.622089062697111\n",
      "Unweigted: 27.4 s ± 78.7 ms per loop (mean ± std. dev. of 7 runs, 1 loop each)\n",
      "Weigted: 33.3 s ± 285 ms per loop (mean ± std. dev. of 7 runs, 1 loop each)\n"
     ]
    }
   ],
   "source": [
    "for idx in range(len(datasets)):\n",
    "    dataset = datasets[idx]\n",
    "    list_type = list_types[idx]\n",
    "    \n",
    "    # load a dataset, in both weighted and unweighted forms\n",
    "    A_weighted, N, original_idxs = edgelistParser(dataset, list_type, True)\n",
    "    A, _, _ = edgelistParser(dataset, list_type, False)\n",
    "    \n",
    "    inDeg, _ = getInOutDegree(A_weighted)\n",
    "    Ns[idx] = N\n",
    "    avgDegs[idx] = np.array(inDeg).mean()\n",
    "    print(\"Nodes:\", N, \"\\b, AvgDeg:\", avgDegs[idx])\n",
    "    \n",
    "    unweigted_times[idx] = %timeit -o -q localPageRank(A, c=0.85, return_only_neighbours=True, epsilon=1e-5, max_iters=50)\n",
    "    weigted_times[idx] = %timeit -o -q localPageRank_weight(A_weighted, c=0.85, return_only_neighbours=True, epsilon=1e-5, max_iters=50)\n",
    "\n",
    "    print(\"Unweigted:\", unweigted_times[idx])\n",
    "    print(\"Weigted:\", weigted_times[idx])"
   ]
  },
  {
   "cell_type": "code",
   "execution_count": 17,
   "metadata": {},
   "outputs": [],
   "source": [
    "np.savez(\"linux-tom.npz\", unweigted_times, weigted_times)"
   ]
  },
  {
   "cell_type": "code",
   "execution_count": 5,
   "metadata": {},
   "outputs": [],
   "source": [
    "test = np.load(\"../linux-tom.npz\")"
   ]
  },
  {
   "cell_type": "code",
   "execution_count": 17,
   "metadata": {},
   "outputs": [
    {
     "name": "stdout",
     "output_type": "stream",
     "text": [
      "arr_0\n",
      "arr_1\n"
     ]
    }
   ],
   "source": [
    "for file in test.files:\n",
    "    print(file)"
   ]
  }
 ],
 "metadata": {
  "kernelspec": {
   "display_name": "Python 3",
   "language": "python",
   "name": "python3"
  },
  "language_info": {
   "codemirror_mode": {
    "name": "ipython",
    "version": 3
   },
   "file_extension": ".py",
   "mimetype": "text/x-python",
   "name": "python",
   "nbconvert_exporter": "python",
   "pygments_lexer": "ipython3",
   "version": "3.7.5"
  }
 },
 "nbformat": 4,
 "nbformat_minor": 2
}
