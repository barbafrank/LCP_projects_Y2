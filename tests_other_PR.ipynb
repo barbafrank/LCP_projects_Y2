{
 "cells": [
  {
   "cell_type": "code",
   "execution_count": 14,
   "metadata": {},
   "outputs": [],
   "source": [
    "import numpy as np\n",
    "import heapq as hq\n",
    "import numba\n",
    "import matplotlib.pyplot as plt"
   ]
  },
  {
   "cell_type": "code",
   "execution_count": 15,
   "metadata": {},
   "outputs": [],
   "source": [
    "np.random.seed(0)\n",
    "N = 12\n",
    "\n",
    "c = 0.85\n",
    "v = 1\n",
    "\n",
    "mat_A = np.random.randint(2, size=(N, N))\n",
    "mat_A = (mat_A + mat_A.T) -1\n",
    "\n",
    "mat_A[mat_A<0] = 0\n",
    "\n",
    "# compute the theoretical value of pagerank \n",
    "d = np.dot(mat_A, np.ones((N, 1)))\n",
    "M = np.matmul(np.diagflat(1/d), mat_A)\n",
    "q = np.zeros((N, 1))\n",
    "q[v] = 1\n",
    "p = np.dot(np.linalg.inv((np.eye(N)-c*M)/(1-c)), q).flatten()\n",
    "p /= np.sum(p)\n",
    "\n",
    "#print(p)\n",
    "\n",
    "nzs = np.nonzero(np.triu(mat_A))\n",
    "edgelist = [(a,b) for a,b in zip(nzs[0], nzs[1])]"
   ]
  },
  {
   "cell_type": "code",
   "execution_count": 16,
   "metadata": {},
   "outputs": [],
   "source": [
    "edge_dict = {}\n",
    "for edge in edgelist:\n",
    "    if edge[0] in edge_dict:\n",
    "        edge_dict[edge[0]].append(edge[1])\n",
    "    else:\n",
    "        edge_dict[edge[0]] = [edge[1]]\n",
    "    if edge[0] != edge[1]:\n",
    "        if edge[1] in edge_dict:\n",
    "            edge_dict[edge[1]].append(edge[0])\n",
    "        else:\n",
    "            edge_dict[edge[1]] = [edge[0]]"
   ]
  },
  {
   "cell_type": "code",
   "execution_count": 17,
   "metadata": {},
   "outputs": [],
   "source": [
    "N = max(edge_dict.keys())+1\n",
    "A = [[]]*N\n",
    "D = 0\n",
    "\n",
    "for n in range(N):\n",
    "    if n in edge_dict:\n",
    "        A[n] = edge_dict[n]\n",
    "        D += len(A[n])"
   ]
  },
  {
   "cell_type": "code",
   "execution_count": 18,
   "metadata": {},
   "outputs": [],
   "source": [
    "# the function performs a push operation\n",
    "def push(p, r, alpha, u, neighbours, neighbours_deg, th):\n",
    "    \n",
    "    # update the vectors (they are passed as pointers)\n",
    "    delta = r[u]\n",
    "    p[u] += (1-c)*delta\n",
    "    r[u] = 0\n",
    "    \n",
    "    # initialize the indicator list that tells\n",
    "    # approximate pagerank which node needs to be \n",
    "    # added into the priority queue for the next\n",
    "    # iteration of the algorithm\n",
    "    r_above_th = [False]*len(neighbours)\n",
    "    \n",
    "    # update r again and define the values \n",
    "    # of the indicator list\n",
    "    for i, n in enumerate(neighbours):\n",
    "        r[n] += c*delta/neighbours_deg[i]\n",
    "        # a node v must be added if: r(v)/d(v) >= th\n",
    "        if (neighbours_deg[i] == 0 and r[0] != 0) or r[n]/neighbours_deg[i] >= th:\n",
    "            r_above_th[i] = True\n",
    "            \n",
    "    return r_above_th"
   ]
  },
  {
   "cell_type": "code",
   "execution_count": 19,
   "metadata": {},
   "outputs": [],
   "source": [
    "def approximate_page_rank(A, N, D, v, c, epsilon):\n",
    "    \n",
    "    # initialize the approximate PageRank vectors\n",
    "    p = np.zeros(N)\n",
    "    r = np.zeros(N)\n",
    "    r[v] = 1\n",
    "    \n",
    "    # for some reason pyhton decided to create a min pq\n",
    "    # so we push the cost inverted (in this case d/1 = d)\n",
    "    pq = []\n",
    "    hq.heappush(pq, (len(A[v]), v))\n",
    "    \n",
    "    # precompute the inverse of epsilon for efficiency\n",
    "    th = epsilon/D\n",
    "    inv_th = D/epsilon\n",
    "    \n",
    "    # iterate over the heap as per defined in [1]\n",
    "    while len(pq)>0 and pq[0][0] <= inv_th:\n",
    "        u = hq.heappop(pq)[1]\n",
    "        neigh = A[u]\n",
    "        \n",
    "        # compute the degrees of the neighbours\n",
    "        neigh_deg = [0]*len(neigh)\n",
    "        for i, n in enumerate(neigh):\n",
    "            neigh_deg[i] = len(A[n])\n",
    "        \n",
    "        # call the push function to update p and r and\n",
    "        # to get the list of neighbours to add to the pq\n",
    "        r_above_th = push(p, r, c, u, neigh, neigh_deg, th)\n",
    "        \n",
    "        # push the new nodes accordingly to the indicator\n",
    "        # vector r_above_th returned by push (boolean)\n",
    "        for i, flag in enumerate(r_above_th):\n",
    "            if flag:\n",
    "                # there can never be a math exception, since if r were\n",
    "                # to be 0 then it would have never been inserted in the list\n",
    "                hq.heappush(pq, (neigh_deg[i]/r[neigh[i]], neigh[i]))\n",
    "                \n",
    "    # return p\n",
    "    return p"
   ]
  },
  {
   "cell_type": "code",
   "execution_count": 20,
   "metadata": {},
   "outputs": [],
   "source": [
    "p1 = approximate_page_rank(A, N, D, v, c, 1e-5)\n",
    "p1 /= np.sum(p1)"
   ]
  },
  {
   "cell_type": "code",
   "execution_count": 21,
   "metadata": {},
   "outputs": [
    {
     "name": "stdout",
     "output_type": "stream",
     "text": [
      "4.7361739937838577e-14\n",
      "[0.1641977]\n"
     ]
    }
   ],
   "source": [
    "print(np.linalg.norm(p - p1))\n",
    "print(np.correlate(p, p1))"
   ]
  },
  {
   "cell_type": "code",
   "execution_count": 22,
   "metadata": {},
   "outputs": [
    {
     "data": {
      "text/plain": [
       "[<matplotlib.lines.Line2D at 0x11eda20b8>]"
      ]
     },
     "execution_count": 22,
     "metadata": {},
     "output_type": "execute_result"
    },
    {
     "data": {
      "image/png": "[encoded data removed]",
      "text/plain": [
       "<Figure size 504x504 with 1 Axes>"
      ]
     },
     "metadata": {
      "needs_background": "light"
     },
     "output_type": "display_data"
    }
   ],
   "source": [
    "fig, axs = plt.subplots(1, 1, figsize=(7,7))\n",
    "axs.plot(p, '.')\n",
    "axs.plot(p1, 'x')"
   ]
  },
  {
   "cell_type": "code",
   "execution_count": 23,
   "metadata": {},
   "outputs": [
    {
     "data": {
      "text/plain": [
       "[<matplotlib.lines.Line2D at 0x11f003ef0>]"
      ]
     },
     "execution_count": 23,
     "metadata": {},
     "output_type": "execute_result"
    },
    {
     "data": {
      "image/png": "[encoded data removed]",
      "text/plain": [
       "<Figure size 504x504 with 1 Axes>"
      ]
     },
     "metadata": {
      "needs_background": "light"
     },
     "output_type": "display_data"
    }
   ],
   "source": [
    "fig, axs = plt.subplots(1, 1, figsize=(7,7))\n",
    "axs.plot(np.abs(p-p1)/p)"
   ]
  },
  {
   "cell_type": "code",
   "execution_count": 24,
   "metadata": {},
   "outputs": [
    {
     "data": {
      "text/plain": [
       "[<matplotlib.lines.Line2D at 0x11f1e8240>]"
      ]
     },
     "execution_count": 24,
     "metadata": {},
     "output_type": "execute_result"
    },
    {
     "data": {
      "image/png": "[encoded data removed]",
      "text/plain": [
       "<Figure size 504x504 with 1 Axes>"
      ]
     },
     "metadata": {
      "needs_background": "light"
     },
     "output_type": "display_data"
    }
   ],
   "source": [
    "fig, axs = plt.subplots(1, 1, figsize=(7,7))\n",
    "axs.plot(p1/p)"
   ]
  },
  {
   "cell_type": "code",
   "execution_count": null,
   "metadata": {},
   "outputs": [],
   "source": []
  }
 ],
 "metadata": {
  "kernelspec": {
   "display_name": "Python 3",
   "language": "python",
   "name": "python3"
  },
  "language_info": {
   "codemirror_mode": {
    "name": "ipython",
    "version": 3
   },
   "file_extension": ".py",
   "mimetype": "text/x-python",
   "name": "python",
   "nbconvert_exporter": "python",
   "pygments_lexer": "ipython3",
   "version": "3.7.1"
  }
 },
 "nbformat": 4,
 "nbformat_minor": 2
}
