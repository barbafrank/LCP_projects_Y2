{
 "cells": [
  {
   "cell_type": "code",
   "execution_count": 1,
   "metadata": {},
   "outputs": [],
   "source": [
    "import numpy as np\n",
    "import heapq as hq\n",
    "import numba\n",
    "import matplotlib.pyplot as plt"
   ]
  },
  {
   "cell_type": "code",
   "execution_count": 2,
   "metadata": {},
   "outputs": [],
   "source": [
    "np.random.seed(0)\n",
    "N = 20\n",
    "mat_A = np.random.randint(2, size=(N, N))\n",
    "mat_A = (mat_A + mat_A.T) -1\n",
    "\n",
    "mat_A[mat_A<0] = 0\n",
    "\n",
    "d = np.dot(mat_A, np.ones(N))\n",
    "M = np.matmul(mat_A, np.diag(1/d))\n",
    "q = np.zeros(N)\n",
    "q[0] = 1\n",
    "p = np.dot(np.linalg.inv((.85*np.eye(N)-(1-.85)*M)/(1-.85)), q)\n",
    "\n",
    "#print(p)\n",
    "\n",
    "nzs = np.nonzero(np.triu(mat_A))\n",
    "edgelist = [(a,b) for a,b in zip(nzs[0], nzs[1])]"
   ]
  },
  {
   "cell_type": "code",
   "execution_count": 3,
   "metadata": {},
   "outputs": [],
   "source": [
    "edge_dict = {}\n",
    "for edge in edgelist:\n",
    "    if edge[0] in edge_dict:\n",
    "        edge_dict[edge[0]].append(edge[1])\n",
    "    else:\n",
    "        edge_dict[edge[0]] = [edge[1]]\n",
    "    if edge[0] != edge[1]:\n",
    "        if edge[1] in edge_dict:\n",
    "            edge_dict[edge[1]].append(edge[0])\n",
    "        else:\n",
    "            edge_dict[edge[1]] = [edge[0]]"
   ]
  },
  {
   "cell_type": "code",
   "execution_count": 4,
   "metadata": {},
   "outputs": [],
   "source": [
    "N = max(edge_dict.keys())+1\n",
    "A = [[]]*N\n",
    "\n",
    "for n in range(N):\n",
    "    if n in edge_dict:\n",
    "        A[n] = edge_dict[n]"
   ]
  },
  {
   "cell_type": "code",
   "execution_count": 5,
   "metadata": {},
   "outputs": [],
   "source": [
    "#A"
   ]
  },
  {
   "cell_type": "code",
   "execution_count": 6,
   "metadata": {},
   "outputs": [],
   "source": [
    "# the function performs a push operation\n",
    "def push(p, r, alpha, idx, idx_deg, neighbours, neighbours_deg, epsilon):\n",
    "    p[idx] += alpha*r[idx]\n",
    "    r[idx] *= (1 - alpha)/2\n",
    "    \n",
    "    r_above_th = [0]*len(neighbours)\n",
    "    \n",
    "    for i, n in enumerate(neighbours):\n",
    "        r[n] += (1 - alpha)*r[idx]/(2*idx_deg)\n",
    "        if r[n]/neighbours_deg[i] >= epsilon:\n",
    "            r_above_th[i] = 1\n",
    "            \n",
    "    return r_above_th"
   ]
  },
  {
   "cell_type": "code",
   "execution_count": 7,
   "metadata": {},
   "outputs": [],
   "source": [
    "def approximate_page_rank(A, v, alpha, epsilon):\n",
    "    # compute N\n",
    "    N = len(A)\n",
    "    \n",
    "    # initialize the approximate PageRank vector\n",
    "    p = np.zeros(N)\n",
    "    r = np.zeros(N)\n",
    "    r[v] = 1\n",
    "    \n",
    "    # for some reason pyhton decided to create a min pq\n",
    "    # so we push the cost inverted (in this case d/1 = d)\n",
    "    pq = []\n",
    "    hq.heappush(pq, (len(A[v]), v))\n",
    "    \n",
    "    # precompute the inverse of epsilon for efficiency\n",
    "    inv_epsilon = 1/epsilon\n",
    "    \n",
    "    # iterate over the heap as per defined in [1]\n",
    "    while len(pq)>0 and pq[0][0] <= inv_epsilon:\n",
    "        idx = hq.heappop(pq)[1]\n",
    "        neigh = A[idx]\n",
    "        \n",
    "        # compute the degrees of the neighbours\n",
    "        neigh_deg = [0]*len(neigh)\n",
    "        for i, n in enumerate(neigh):\n",
    "            neigh_deg[i] = len(A[n])\n",
    "        \n",
    "        # call the push function to update p and r and\n",
    "        # to get the list of neighbours to add to the pq\n",
    "        r_above_th = push(p, r, alpha, idx, len(neigh), neigh, neigh_deg, epsilon)\n",
    "        \n",
    "        for i, flag in enumerate(r_above_th):\n",
    "            if flag == 1 and r[neigh[i]] != 0:\n",
    "                hq.heappush(pq, (len(A[neigh[i]])/r[neigh[i]], neigh[i]))\n",
    "                \n",
    "    # return p\n",
    "    return p"
   ]
  },
  {
   "cell_type": "code",
   "execution_count": 8,
   "metadata": {},
   "outputs": [],
   "source": [
    "#approximate_page_rank([[1, 2], [0, 2], [0, 1]], 0, .5, .0000000001)\n",
    "p1 = approximate_page_rank(A, 0, .85, .0000001)"
   ]
  },
  {
   "cell_type": "code",
   "execution_count": 9,
   "metadata": {},
   "outputs": [
    {
     "name": "stdout",
     "output_type": "stream",
     "text": [
      "0.7411296277316075\n"
     ]
    }
   ],
   "source": [
    "print(np.linalg.norm(p - p1))"
   ]
  },
  {
   "cell_type": "code",
   "execution_count": 9,
   "metadata": {},
   "outputs": [
    {
     "data": {
      "text/plain": [
       "[<matplotlib.lines.Line2D at 0x1bb21f143c8>]"
      ]
     },
     "execution_count": 9,
     "metadata": {},
     "output_type": "execute_result"
    },
    {
     "data": {
      "image/png": "[encoded data removed]",
      "text/plain": [
       "<Figure size 504x504 with 1 Axes>"
      ]
     },
     "metadata": {
      "needs_background": "light"
     },
     "output_type": "display_data"
    }
   ],
   "source": [
    "fig, axs = plt.subplots(1, 1, figsize=(7,7))\n",
    "axs.plot(p, '.')\n",
    "axs.plot(p1, '.')"
   ]
  },
  {
   "cell_type": "code",
   "execution_count": null,
   "metadata": {},
   "outputs": [],
   "source": []
  }
 ],
 "metadata": {
  "kernelspec": {
   "display_name": "Python 3",
   "language": "python",
   "name": "python3"
  },
  "language_info": {
   "codemirror_mode": {
    "name": "ipython",
    "version": 3
   },
   "file_extension": ".py",
   "mimetype": "text/x-python",
   "name": "python",
   "nbconvert_exporter": "python",
   "pygments_lexer": "ipython3",
   "version": "3.7.1"
  }
 },
 "nbformat": 4,
 "nbformat_minor": 2
}
