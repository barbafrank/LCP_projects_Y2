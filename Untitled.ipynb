{
 "cells": [
  {
   "cell_type": "code",
   "execution_count": 2,
   "metadata": {},
   "outputs": [],
   "source": [
    "import numpy as np"
   ]
  },
  {
   "cell_type": "code",
   "execution_count": 15,
   "metadata": {},
   "outputs": [
    {
     "name": "stdout",
     "output_type": "stream",
     "text": [
      "[[0 1 1 1 1 1 1 1 1 1]\n",
      " [1 0 1 1 1 1 0 1 1 1]\n",
      " [1 1 1 1 0 1 1 1 1 0]\n",
      " [1 1 1 0 1 1 0 1 1 0]\n",
      " [1 1 0 1 1 1 1 1 1 1]\n",
      " [1 1 1 1 1 0 1 1 1 1]\n",
      " [1 0 1 0 1 1 0 1 1 0]\n",
      " [1 1 1 1 1 1 1 0 1 1]\n",
      " [1 1 1 1 1 1 1 1 1 1]\n",
      " [1 1 0 0 1 1 0 1 1 0]]\n"
     ]
    }
   ],
   "source": [
    "np.random.seed(0)\n",
    "N = 10\n",
    "A = np.random.randint(2, size=(N, N))\n",
    "A = A + A.T\n",
    "\n",
    "A[A>0] = 1\n",
    "\n",
    "print(A)"
   ]
  },
  {
   "cell_type": "code",
   "execution_count": 18,
   "metadata": {},
   "outputs": [],
   "source": [
    "# the function performs a push operation\n",
    "def push(p, r, alpha, idx, idx_deg, neighbours, neighbours_deg, epsilon):\n",
    "    p[idx] += alpha*r[idx]\n",
    "    r[idx] *= (1 - alpha)/2\n",
    "    \n",
    "    r_above_th = np.zeros(neighbours.size)\n",
    "    \n",
    "    for i, n in enumerate(neighbours):\n",
    "        r[n] += (1 - alpha)*r[idx]/(2*idx_deg)\n",
    "        if r[n]/neighbours_deg[i] >= epsilon:\n",
    "            r_above_th[i] = 1\n",
    "            \n",
    "    return r_above_th"
   ]
  },
  {
   "cell_type": "code",
   "execution_count": 19,
   "metadata": {},
   "outputs": [
    {
     "ename": "SyntaxError",
     "evalue": "unexpected EOF while parsing (<ipython-input-19-992af135f1c0>, line 1)",
     "output_type": "error",
     "traceback": [
      "\u001b[1;36m  File \u001b[1;32m\"<ipython-input-19-992af135f1c0>\"\u001b[1;36m, line \u001b[1;32m1\u001b[0m\n\u001b[1;33m    def approximate_page_rank():\u001b[0m\n\u001b[1;37m                                ^\u001b[0m\n\u001b[1;31mSyntaxError\u001b[0m\u001b[1;31m:\u001b[0m unexpected EOF while parsing\n"
     ]
    }
   ],
   "source": [
    "def approximate_page_rank(A, v, alpha, epsilon):\n",
    "    # initialize the approximate PageRank vector\n",
    "    p = np.zeros()"
   ]
  },
  {
   "cell_type": "code",
   "execution_count": null,
   "metadata": {},
   "outputs": [],
   "source": []
  }
 ],
 "metadata": {
  "kernelspec": {
   "display_name": "Python 3",
   "language": "python",
   "name": "python3"
  },
  "language_info": {
   "codemirror_mode": {
    "name": "ipython",
    "version": 3
   },
   "file_extension": ".py",
   "mimetype": "text/x-python",
   "name": "python",
   "nbconvert_exporter": "python",
   "pygments_lexer": "ipython3",
   "version": "3.7.3"
  }
 },
 "nbformat": 4,
 "nbformat_minor": 2
}
