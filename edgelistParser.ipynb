{
 "cells": [
  {
   "cell_type": "code",
   "execution_count": 1,
   "metadata": {},
   "outputs": [],
   "source": [
    "import numpy as np\n",
    "import numba"
   ]
  },
  {
   "cell_type": "code",
   "execution_count": 20,
   "metadata": {},
   "outputs": [],
   "source": [
    "# define the routine that parses a text file\n",
    "# into the efficient adjacency representation\n",
    "# needed by the other functions\n",
    "def edgelistParser(path, enc_type=\"list\"):\n",
    "    \n",
    "    # initialize the edge dictionary\n",
    "    edge_dict = {}\n",
    "    \n",
    "    if enc_type == \"list\":\n",
    "        # the edgelist is a text file where each row\n",
    "        # is a link between nodes i and j\n",
    "        # if there is no third number then the matrix is\n",
    "        # assumed unweighted\n",
    "        \n",
    "        # open the file\n",
    "        with open(path, \"r\") as f:\n",
    "            # loop over its lines\n",
    "            for line in f:\n",
    "                # split into chunks\n",
    "                raw_edge = line.split()\n",
    "                assert len(raw_edge)>1, \"There must be at least 2 numbers per line\"\n",
    "                # check if weighted\n",
    "                if len(raw_edge)>2:\n",
    "                    edge = tuple([int(val) for val in raw_edge[:-1]])\n",
    "                else:\n",
    "                    edge = tuple([int(val) for val in raw_edge]) + (1,)\n",
    "                \n",
    "                # add the edges to the dictionary\n",
    "                if edge[0] in edge_dict:\n",
    "                    edge_dict[edge[0]].append((edge[1], edge[2]))\n",
    "                else:\n",
    "                    edge_dict[edge[0]] = [(edge[1], edge[2])]\n",
    "                if edge[0] != edge[1]:\n",
    "                    if edge[1] in edge_dict:\n",
    "                        edge_dict[edge[1]].append((edge[0], edge[2]))\n",
    "                    else:\n",
    "                        edge_dict[edge[1]] = [(edge[0], edge[2])]\n",
    "                \n",
    "        # finally convert to list and return\n",
    "        N = max(edge_dict.keys())+1\n",
    "        A = [[]]*N\n",
    "\n",
    "        for n in range(N):\n",
    "            if n in edge_dict:\n",
    "                A[n] = edge_dict[n]\n",
    "        \n",
    "        return (A, N)\n",
    "        \n",
    "    else:\n",
    "        raise Exception(\"No such encoding type:\", enc_type)"
   ]
  },
  {
   "cell_type": "code",
   "execution_count": 21,
   "metadata": {},
   "outputs": [],
   "source": [
    "A, N = edgelistParser(\"datasets/facebook/0.edges\")"
   ]
  },
  {
   "cell_type": "code",
   "execution_count": null,
   "metadata": {},
   "outputs": [],
   "source": []
  }
 ],
 "metadata": {
  "kernelspec": {
   "display_name": "Python 3",
   "language": "python",
   "name": "python3"
  },
  "language_info": {
   "codemirror_mode": {
    "name": "ipython",
    "version": 3
   },
   "file_extension": ".py",
   "mimetype": "text/x-python",
   "name": "python",
   "nbconvert_exporter": "python",
   "pygments_lexer": "ipython3",
   "version": "3.7.1"
  }
 },
 "nbformat": 4,
 "nbformat_minor": 2
}
