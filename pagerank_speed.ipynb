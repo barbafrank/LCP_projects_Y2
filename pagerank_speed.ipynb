{
 "cells": [
  {
   "cell_type": "code",
   "execution_count": 1,
   "metadata": {},
   "outputs": [],
   "source": [
    "# use cython compiled modules for faster execution\n",
    "from scripts.cython.edgelistParser import edgelistParser\n",
    "from scripts.cython.utils import list2matrix, getInOutDegree, transposeEdgelist, reorderEdgelist\n",
    "#from scripts.cython.pageRank import approximateSimrank, localPageRank\n",
    "from scripts.cython.plotNetwork import plotNetworkClusters\n",
    "\n",
    "from scripts.cpp_libs.pageRankCpp import cppLocalPageRank as localPageRank\n",
    "\n",
    "import numpy as np\n",
    "from matplotlib import pyplot as plt"
   ]
  },
  {
   "cell_type": "code",
   "execution_count": 11,
   "metadata": {},
   "outputs": [
    {
     "name": "stdout",
     "output_type": "stream",
     "text": [
      "786\n"
     ]
    }
   ],
   "source": [
    "# load the Facebook dataset\n",
    "A, N, original_idxs = edgelistParser(\"datasets/facebook/1684.edges\", \"raw_list\")\n",
    "print(N)"
   ]
  },
  {
   "cell_type": "code",
   "execution_count": 12,
   "metadata": {},
   "outputs": [
    {
     "name": "stdout",
     "output_type": "stream",
     "text": [
      "20.4 ms ± 1.07 ms per loop (mean ± std. dev. of 7 runs, 100 loops each)\n"
     ]
    }
   ],
   "source": [
    "%timeit localPageRank(A, c=0.85, return_only_neighbours=True, epsilon=1e-2)"
   ]
  },
  {
   "cell_type": "code",
   "execution_count": 13,
   "metadata": {},
   "outputs": [],
   "source": [
    "# N=333:  5.77 ms ± 29.8 µs per loop (mean ± std. dev. of 7 runs, 100 loops each)\n",
    "# N=786:  20.4 ms ± 1.07 ms per loop (mean ± std. dev. of 7 runs, 100 loops each)\n",
    "# N=1034: 29.4 ms ± 344 µs per loop (mean ± std. dev. of 7 runs, 10 loops each)"
   ]
  },
  {
   "cell_type": "code",
   "execution_count": null,
   "metadata": {},
   "outputs": [],
   "source": []
  }
 ],
 "metadata": {
  "kernelspec": {
   "display_name": "Python 3",
   "language": "python",
   "name": "python3"
  },
  "language_info": {
   "codemirror_mode": {
    "name": "ipython",
    "version": 3
   },
   "file_extension": ".py",
   "mimetype": "text/x-python",
   "name": "python",
   "nbconvert_exporter": "python",
   "pygments_lexer": "ipython3",
   "version": "3.7.1"
  }
 },
 "nbformat": 4,
 "nbformat_minor": 2
}
