{
 "cells": [
  {
   "cell_type": "markdown",
   "metadata": {},
   "source": [
    "# High Level Programming Project\n",
    "## Local PageRank - Local similarities in the nodes of a network\n",
    "##### Francesco Barbato<sup>1</sup>, Mario Serafin<sup>1</sup>, Tommaso Boccato<sup>1</sup>, Valentina Rossi<sup>1</sup>\n",
    "### <sup>1</sup>Università degli Studi di Padova"
   ]
  },
  {
   "cell_type": "markdown",
   "metadata": {},
   "source": [
    "## Introduction\n",
    "Clustering is a well-studied Computer Science task which belongs to the unsupervised learning paradigm of Machine Learning. In general, this technique can be used to partition various types of data. Amongst the many applications, the most widely used comprize image segmentation, statistical analysis and community detection in social networks.<br>\n",
    "In this project, we use it to extract communities in a network, allowing the clustering algorithm to make use of its weights. In particular, we exploited personalized PageRank to generate new weights for the network in order to better describe the nodes similarity, starting from the original ones provided within the dataset.<br>\n",
    "A novel approach towards this goal was the choice of keeping only the ranking information related to the nodes’ neighbourhoods, effectively generating a personalized PageRank matrix which has the same shape of the adjacency one, being the sparseness propriety preserved.<br>\n",
    "To better exploit the generated weights, we designed several ad-hoc clustering algorithms and then compared their performances."
   ]
  },
  {
   "cell_type": "code",
   "execution_count": null,
   "metadata": {},
   "outputs": [],
   "source": [
    "# import general use libraries\n",
    "import numpy as np\n",
    "import matplotlib.pyplot as plt\n",
    "import matplotlib.gridspec as gridspec\n",
    "import networkx as nx\n",
    "\n",
    "# silence matplotlib warnings\n",
    "import warnings\n",
    "warnings.filterwarnings('ignore')\n",
    "\n",
    "# import developed libraries\n",
    "from libs.cython.pyx.utils import (\n",
    "    list2matrix,\n",
    "    transposeEdgelist\n",
    ")\n",
    "\n",
    "from libs.cython.pyx.edgelistParser import edgelistParser\n",
    "\n",
    "from libs.cython.cpp.pageRankCpp import (\n",
    "    cppGetDegree,\n",
    "    cppLocalPageRank_weight as localPageRank_weight,\n",
    "    cppApproximateSimrank as approximateSimrank\n",
    "    cppLocalPageRank as localPageRank\n",
    ")\n",
    "\n",
    "from libs.python.clustering import build_network\n",
    "\n",
    "\n",
    "\n",
    "from libs.python.plotNetwork import plotNetworkClusters"
   ]
  },
  {
   "cell_type": "markdown",
   "metadata": {},
   "source": [
    "## Local PageRank\n",
    "Search engines have become fundamental in exploring the web and discovering information. A good performing engine is both fast and guarantees high correlation between the produced results and the inputted terms.<br>\n",
    "Such requirements can be satisfied by PageRank, an algorithm originally proposed by Google, which quantifies and ranks the importance of each webpage with respect to the pages connected to it.\n",
    "Even if originally developed to explore the internet, PageRank can be easily generalized for any kind of networks: web pages become nodes and link to other pages become edges.<br>\n",
    "In short, the underlying idea is that links from an important page, i.e. edges from a hub, make the page, or node, more important. The ranking of a node, in fact, is based on the number of edges the node has, and the importance of the other node of the same edge. Mathematically speaking, the problem could be formulated in terms of search of the eigenvectors associated to the largest eigenvalues of a stochastic matrix associated with the web structure (i.e. Adjacency Matrix).<br>\n",
    "Various approaches have been shown in literature for the implementation of the PageRank algorithm, but one of the most common ones is local PageRank with randomized walk.\n",
    "### Formal Definition\n",
    "Starting from the definition of local PageRank through a lazy random walk, provided in paper (TODO: add citation), we define an iterative process which consists of a series of operations, called push operations, which update two distribution vectors, $p$ and $r$, the approximate PageRank vector and the residual error respectively. For each node, we initialize $p$ as an all zeros vector and $r$ as a vector with the element at the index corresponding to the node onto which PageRank is called set to one, and the rest set to zero. Both have length equal to the number of nodes in the network, namely, the dimensions of the adjacency matrix, square by construction.<br>\n",
    "These vectors are then updated using the aforementioned push operation, that is the core of this algorithm.<br>\n",
    "First, we compute the new values for $p$ and $r$ as:\n",
    "$$\n",
    "\\begin{align}\n",
    "p’[u] &= p[u] + \\alpha r[u]\\\\\n",
    "r’[u] &= r[u]\\frac{1-\\alpha}{2}\n",
    "\\end{align}\n",
    "$$\n",
    "where $u$ is the starting node. Then, since we are updating $r$ for that node, each of its neighbours needs to be updated accordingly. In order to keep track of what needs to be updated, the next nodes to be processed are put in a priority queue.\n",
    "### Complexity Analysis\n",
    "This implementation of approximate PageRank is reported to run in $O\\left(\\frac{\\log n}{\\epsilon\\alpha}\\right)$, as it was shown in (TODO: add citation). Since, in the worst case, it must be done for each node in the network, the overall complexity of local PageRank results to be $O\\left(n\\frac{\\log n}{\\epsilon\\alpha}\\right)$.<br>\n",
    "Overall, local PageRank still allows for a faster implementation, since it has been shown in (TODO: add citation) that, even by using distributed algorithms over all the network, the complexity of computing the PageRank of all nodes in a graph is around $O\\left(\\frac{n}{k^2}\\right)$, with $k$ the number of machines available for the analysis. Local pageRank, thus, computes the scores proportionally to the logarithm of the number of the nodes in the network, as opposed of being linear in said number."
   ]
  },
  {
   "cell_type": "code",
   "execution_count": null,
   "metadata": {},
   "outputs": [],
   "source": [
    "# load a dataset, in both weighted and unweighted forms\n",
    "A_weighted, N, original_idxs = edgelistParser(\"../datasets/facebook/0.edges\", \"raw_list\", True)\n",
    "A, _, _ = edgelistParser(\"../datasets/facebook/0.edges\", \"raw_list\", False)"
   ]
  },
  {
   "cell_type": "code",
   "execution_count": null,
   "metadata": {},
   "outputs": [],
   "source": [
    "# test performance on both verions\n",
    "print(\"Weighted version:\")\n",
    "%timeit cppLocalPageRank_weight(A_weighted, c=0.85, return_only_neighbours=True)\n",
    "print(\"Unweighted version:\")\n",
    "%timeit cppLocalPageRank(A, c=0.85, return_only_neighbours=True)"
   ]
  },
  {
   "cell_type": "code",
   "execution_count": null,
   "metadata": {},
   "outputs": [],
   "source": [
    "# generate the L matrix, assuming both weighted and unweighted input\n",
    "L_weighted = cppLocalPageRank_weight(A_weighted, c=0.85, return_only_neighbours=True)\n",
    "L = cppLocalPageRank(A, c=0.85, return_only_neighbours=True)\n",
    "\n",
    "# convert to numpy matrix, to visually check the results\n",
    "L_weighted_mat = list2matrix(L_weighted)\n",
    "L_mat = list2matrix(L)\n",
    "\n",
    "# plot the matrices' spy \n",
    "fig, axs = plt.subplots(1, 2, figsize=(15, 7))\n",
    "axs[0].spy(L_weighted_mat)\n",
    "axs[1].spy(L_mat)\n",
    "\n",
    "# and print the difference to check that the same result was obtained\n",
    "print(\"Difference between Local PageRank Computations:\", np.linalg.norm(L_mat-L_weighted_mat))"
   ]
  },
  {
   "cell_type": "markdown",
   "metadata": {},
   "source": [
    "At this stage, we verify that the algorithm correctly solves the problem of computing an approximation of the Lazy PageRank score:\n",
    "$$\n",
    "\\begin{equation}\n",
    "\\mathbb{pr}(\\alpha, \\vec{s}) = \\alpha\\vec{s} + (1-\\alpha)\\mathbb{pr}(\\alpha, \\vec{s})W\n",
    "\\end{equation}\n",
    "$$\n",
    "Where matrix $W$ is defined as follows:\n",
    "$$\n",
    "\\begin{equation}\n",
    "W = \\frac{1}{2}\\left(I + D^{-1}A \\right)\n",
    "\\end{equation}\n",
    "$$\n",
    "with $D$, the diagonal matrix that collects the nodes degree on its diagonal: $D = A\\vec{\\mathbb{1}}$.<br>\n",
    "Moreover we say that a vector $\\vec{p}$ (with it's residuals $\\vec{r}$), computed by the algorithm, is an approximation of the solution if:\n",
    "$$\n",
    "\\begin{equation}\n",
    "\\vec{p} + \\mathbb{pr}(\\alpha, \\vec{r}) = \\mathbb{pr}(\\alpha, \\vec{s})\n",
    "\\end{equation}\n",
    "$$"
   ]
  },
  {
   "cell_type": "code",
   "execution_count": null,
   "metadata": {},
   "outputs": [],
   "source": [
    "# define all-in-one function to compute the infinite precision lazy PageRank\n",
    "def page_rank(A, A_mat, N, s, alpha):\n",
    "    s = s.reshape(1, N)\n",
    "    I = np.eye(N)\n",
    "    d_inv = np.zeros(N)\n",
    "    for i in range(N):\n",
    "        d_inv[i] = len(A[i])**(- 1)\n",
    "    D_inv = np.diag(d_inv)\n",
    "    W = 1/2*(I + np.dot(D_inv, A_mat))\n",
    "    p = alpha*np.dot(s, np.linalg.inv(I - (1 - alpha)*W))\n",
    "    return p.reshape(N)"
   ]
  },
  {
   "cell_type": "code",
   "execution_count": null,
   "metadata": {},
   "outputs": [],
   "source": [
    "# load network for algorithm verification, use unweighted version\n",
    "A, N, original_idxs = edgelistParser(\"../datasets/facebook/686.edges\", \"raw_list\", False)\n",
    "A_mat = list2matrix(A, False)\n",
    "print(\"Loaded Network's node number N =\", N)"
   ]
  },
  {
   "cell_type": "code",
   "execution_count": null,
   "metadata": {},
   "outputs": [],
   "source": [
    "# plot the loaded dataset\n",
    "g = nx.Graph(A_mat)\n",
    "plt.figure()\n",
    "nx.draw_networkx(g, node_size=10, with_labels=False, node_color=\"#51B9C2\", edge_color=\"#505050\")\n",
    "plt.show()"
   ]
  },
  {
   "cell_type": "code",
   "execution_count": null,
   "metadata": {},
   "outputs": [],
   "source": [
    "# set the PageRank parameters\n",
    "v = 0\n",
    "alpha = 0.15\n",
    "epsilon = 1e-20"
   ]
  },
  {
   "cell_type": "code",
   "execution_count": null,
   "metadata": {},
   "outputs": [],
   "source": [
    "# compute PageRank\n",
    "s = np.zeros((1, N))\n",
    "s[0,v] = 1\n",
    "\n",
    "# using infinite precision\n",
    "pr = page_rank(A, A_mat, N, s, alpha)\n",
    "# and the approximate version\n",
    "p, r = approximateSimrank(A, v, alpha, epsilon, return_only_neighbours=False)"
   ]
  },
  {
   "cell_type": "code",
   "execution_count": null,
   "metadata": {},
   "outputs": [],
   "source": [
    "# plot the results\n",
    "f = plt.figure(figsize=(15, 15))\n",
    "# create major subplots\n",
    "gs0 = gridspec.GridSpec(2, 1, figure=f)\n",
    "# further split the second row\n",
    "gs00 = gridspec.GridSpecFromSubplotSpec(1, 2, subplot_spec=gs0[1])\n",
    "\n",
    "# apply the separation to the figure\n",
    "ax1 = f.add_subplot(gs0[0])\n",
    "ax2 = f.add_subplot(gs00[0])\n",
    "ax3 = f.add_subplot(gs00[1])\n",
    "\n",
    "# plot the linear scale result, across the top\n",
    "ax1.plot(p, \"x\")\n",
    "ax1.plot(pr, \".\")\n",
    "ax1.legend([\"approximate\", \"real\"])\n",
    "ax1.set_title(\"Linear y-scale PageRank Output\")\n",
    "ax1.set_xlim([-1, N])\n",
    "ax1.set_xlabel(\"Node ID\")\n",
    "ax1.set_ylabel(\"Rank, $\\\\mathbb{pr}(\\\\alpha, \\\\vec{s})$\")\n",
    "ax1.grid(True)\n",
    "\n",
    "# plot the log scale result, bottom left square plot\n",
    "ax2.plot(p, \"x\")\n",
    "ax2.plot(pr, \".\")\n",
    "ax2.legend([\"approximate\", \"real\"])\n",
    "ax2.set_title(\"Logarithminc y-scale PageRank Output\")\n",
    "ax2.set_xlim([-1, N])\n",
    "ax2.set_xlabel(\"Node ID\")\n",
    "ax2.set_ylabel(\"Rank, $\\\\mathbb{pr}(\\\\alpha, \\\\vec{s})$\")\n",
    "ax2.set_yscale(\"log\")\n",
    "ax2.grid(True)\n",
    "\n",
    "# check correctness\n",
    "x = np.linspace(np.min(pr), np.max(pr))\n",
    "y = 1/2*x\n",
    "\n",
    "# plot the correctness QQ-Plot, bottom right square plot\n",
    "ax3.loglog(pr, p + page_rank(A, A_mat, N, np.array(r), alpha), \".\")\n",
    "ax3.loglog(x,y)\n",
    "ax3.set_title(\"Correctness QQ-Plot\")\n",
    "ax3.set_xlabel(\"True Rank, $\\\\mathbb{pr}(\\\\alpha, \\\\vec{s})$\")\n",
    "ax3.set_ylabel(\"Approximated Rank plus Residuals Rank, $\\\\vec{p} + \\\\mathbb{pr}(\\\\alpha, \\\\vec{r})$\", rotation=-90, labelpad=30)\n",
    "ax3.yaxis.set_label_position(\"right\")\n",
    "ax3.yaxis.tick_right()\n",
    "ax3.grid(True, which=\"both\", ls=\"--\")"
   ]
  },
  {
   "cell_type": "code",
   "execution_count": 9,
   "metadata": {},
   "outputs": [
    {
     "data": {
      "image/png": "[encoded data removed]",
      "text/plain": [
       "<Figure size 1080x504 with 2 Axes>"
      ]
     },
     "metadata": {
      "needs_background": "light"
     },
     "output_type": "display_data"
    }
   ],
   "source": [
    "# load the network\n",
    "A, positions = build_network(\"../datasets/Aggregation.txt\", radius=3.5)\n",
    "A_mat = list2matrix(A, False)\n",
    "\n",
    "# generate the L matrix\n",
    "L = localPageRank(A, c=0.85, epsilon=1e-8, max_iters=200, return_only_neighbours=True)\n",
    "L = transposeEdgelist(L, True)\n",
    "L_mat = list2matrix(L)\n",
    "\n",
    "# plot matrices\n",
    "fig, axs = plt.subplots(1, 2, figsize=(15, 7))\n",
    "axs[0].imshow(A_mat)\n",
    "axs[1].imshow(np.log(L_mat+1))\n",
    "plt.show()"
   ]
  },
  {
   "cell_type": "code",
   "execution_count": null,
   "metadata": {},
   "outputs": [],
   "source": [
    "col = cluster(L, A_mat, pos=positions, node_size=20, draw_edges=True)"
   ]
  }
 ],
 "metadata": {
  "kernelspec": {
   "display_name": "Python 3",
   "language": "python",
   "name": "python3"
  },
  "language_info": {
   "codemirror_mode": {
    "name": "ipython",
    "version": 3
   },
   "file_extension": ".py",
   "mimetype": "text/x-python",
   "name": "python",
   "nbconvert_exporter": "python",
   "pygments_lexer": "ipython3",
   "version": "3.7.5"
  }
 },
 "nbformat": 4,
 "nbformat_minor": 2
}
