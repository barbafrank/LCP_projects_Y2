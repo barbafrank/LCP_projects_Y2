{
 "cells": [
  {
   "cell_type": "markdown",
   "metadata": {},
   "source": [
    "## Introduction"
   ]
  },
  {
   "cell_type": "markdown",
   "metadata": {},
   "source": []
  },
  {
   "cell_type": "code",
   "execution_count": 83,
   "metadata": {},
   "outputs": [],
   "source": [
    "# import general use libraries\n",
    "import numpy as np\n",
    "import matplotlib\n",
    "import matplotlib.pyplot as plt"
   ]
  },
  {
   "cell_type": "code",
   "execution_count": 1,
   "metadata": {},
   "outputs": [],
   "source": [
    "# import libraries for pagerank testing\n",
    "from libs.cython.pyx.utils import list2matrix\n",
    "from libs.cython.pyx.edgelistParser import edgelistParser\n",
    "from libs.cython.cpp.pageRankCpp import cppGetDegree, cppLocalPageRank_weight, cppLocalPageRank, cppApproximateSimrank"
   ]
  },
  {
   "cell_type": "code",
   "execution_count": 6,
   "metadata": {},
   "outputs": [],
   "source": [
    "# load a dataset, in both weighted and unweighted forms\n",
    "A_weighted, N, original_idxs = edgelistParser(\"../datasets/facebook/0.edges\", \"raw_list\", True)\n",
    "A, _, _ = edgelistParser(\"../datasets/facebook/0.edges\", \"raw_list\", False)"
   ]
  },
  {
   "cell_type": "code",
   "execution_count": 10,
   "metadata": {},
   "outputs": [
    {
     "name": "stdout",
     "output_type": "stream",
     "text": [
      "Weighted version, slower:\n",
      "601 ms ± 5.97 ms per loop (mean ± std. dev. of 7 runs, 1 loop each)\n",
      "Unweighted version, faster:\n",
      "94.1 ms ± 239 µs per loop (mean ± std. dev. of 7 runs, 10 loops each)\n"
     ]
    }
   ],
   "source": [
    "# test performance on both verions\n",
    "print(\"Weighted version, slower:\")\n",
    "%timeit cppLocalPageRank_weight(A_weighted, c=0.85, return_only_neighbours=True)\n",
    "print(\"Unweighted version, faster:\")\n",
    "%timeit cppLocalPageRank(A, c=0.85, return_only_neighbours=True)"
   ]
  },
  {
   "cell_type": "code",
   "execution_count": 11,
   "metadata": {},
   "outputs": [
    {
     "name": "stdout",
     "output_type": "stream",
     "text": [
      "Difference between Local PageRank Computations: 0.0\n"
     ]
    },
    {
     "data": {
      "image/png": "[encoded data removed]",
      "text/plain": [
       "<Figure size 432x288 with 2 Axes>"
      ]
     },
     "metadata": {
      "needs_background": "light"
     },
     "output_type": "display_data"
    }
   ],
   "source": [
    "# generate the L matrix, assuming both weighted and unweighted input\n",
    "L_weighted = cppLocalPageRank_weight(A_weighted, c=0.85, return_only_neighbours=True)\n",
    "L = cppLocalPageRank(A, c=0.85, return_only_neighbours=True)\n",
    "\n",
    "# convert to numpy matrix, to visually check the results\n",
    "L_weighted_mat = list2matrix(L_weighted)\n",
    "L_mat = list2matrix(L)\n",
    "\n",
    "# plot the matrices' spy \n",
    "fig, axs = plt.subplots(1, 2)\n",
    "axs[0].spy(L_weighted_mat)\n",
    "axs[1].spy(L_mat)\n",
    "\n",
    "# and print the difference to check that the same result was obtained\n",
    "print(\"Difference between Local PageRank Computations:\", np.linalg.norm(L_mat-L_weighted_mat))"
   ]
  },
  {
   "cell_type": "code",
   "execution_count": 96,
   "metadata": {},
   "outputs": [
    {
     "data": {
      "image/png": "[encoded data removed]",
      "text/plain": [
       "<Figure size 504x504 with 1 Axes>"
      ]
     },
     "metadata": {
      "needs_background": "light"
     },
     "output_type": "display_data"
    }
   ],
   "source": [
    "# now compute the approximate simrank to check the correctness of the algorithm\n",
    "c = .85;\n",
    "alpha = 2*c/(1+c);\n",
    "#andersen's paper inverts alpha\n",
    "alpha = 1-alpha;\n",
    "\n",
    "v = 1\n",
    "\n",
    "# compute using fast algorithm\n",
    "p, r = cppApproximateSimrank(A, v, alpha)\n",
    "#p = np.array(p)/np.array(p).sum()\n",
    "\n",
    "# compute the linear system solution of the lazy pagerank\n",
    "A_mat = list2matrix(A, False)\n",
    "# compute the degree\n",
    "d = np.dot(A_mat, np.ones((N, 1)))\n",
    "# compute W (lazy pagerank matrix): W = .5(I+M)\n",
    "# where M = D^-1 * A\n",
    "M = np.matmul(np.diagflat(1/d), A_mat)\n",
    "W = .5*(np.eye(N)+M)\n",
    "# initialize the teleportation vector\n",
    "q = np.zeros((N, 1))\n",
    "q[v] = 1\n",
    "# finally compute the actual vector: p = alpha*W*p + (1 - alpha)q\n",
    "p_s = np.dot(np.linalg.inv((np.eye(N)-alpha*W)/(1-alpha)), q).flatten()\n",
    "\n",
    "# compute pagerank using the residuals\n",
    "p_r = np.dot(np.linalg.inv((np.eye(N)-alpha*W)/(1-alpha)), np.array(r)).flatten()\n",
    "\n",
    "# plot results\n",
    "fig, axs = plt.subplots(1, 1, figsize=(7,7))\n",
    "axs.plot(p_s, p + p_r, '.')\n",
    "xl = [1e-17, 1]\n",
    "yl = [1e-17, 1]\n",
    "axs.set_xlim(xl)\n",
    "_ = axs.set_ylim(yl)\n",
    "axs.set_yscale('log')\n",
    "axs.set_xscale('log')\n",
    "\n",
    "axs.grid(True, which=\"both\")"
   ]
  },
  {
   "cell_type": "code",
   "execution_count": null,
   "metadata": {},
   "outputs": [],
   "source": []
  }
 ],
 "metadata": {
  "kernelspec": {
   "display_name": "Python 3",
   "language": "python",
   "name": "python3"
  },
  "language_info": {
   "codemirror_mode": {
    "name": "ipython",
    "version": 3
   },
   "file_extension": ".py",
   "mimetype": "text/x-python",
   "name": "python",
   "nbconvert_exporter": "python",
   "pygments_lexer": "ipython3",
   "version": "3.7.1"
  }
 },
 "nbformat": 4,
 "nbformat_minor": 2
}
