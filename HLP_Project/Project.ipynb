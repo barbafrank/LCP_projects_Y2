{
 "cells": [
  {
   "cell_type": "markdown",
   "metadata": {},
   "source": [
    "## Introduction"
   ]
  },
  {
   "cell_type": "markdown",
   "metadata": {},
   "source": []
  },
  {
   "cell_type": "code",
   "execution_count": 1,
   "metadata": {},
   "outputs": [],
   "source": [
    "# import general use libraries\n",
    "import numpy as np\n",
    "import matplotlib.pyplot as plt"
   ]
  },
  {
   "cell_type": "code",
   "execution_count": 2,
   "metadata": {},
   "outputs": [],
   "source": [
    "# import libraries for pagerank testing\n",
    "from libs.cython.pyx.utils import list2matrix\n",
    "from libs.cython.pyx.edgelistParser import edgelistParser\n",
    "from libs.cython.cpp.pageRankCpp import cppGetDegree, cppLocalPageRank_weight, cppLocalPageRank"
   ]
  },
  {
   "cell_type": "code",
   "execution_count": 3,
   "metadata": {},
   "outputs": [],
   "source": [
    "# load a dataset, in both weighted and unweighted forms\n",
    "A_weighted, N, original_idxs = edgelistParser(\"../datasets/facebook/0.edges\", \"raw_list\", True)\n",
    "A, _, _ = edgelistParser(\"../datasets/facebook/0.edges\", \"raw_list\", False)"
   ]
  },
  {
   "cell_type": "code",
   "execution_count": 5,
   "metadata": {},
   "outputs": [
    {
     "name": "stdout",
     "output_type": "stream",
     "text": [
      "Weighted version, slower:\n",
      "621 ms ± 26 ms per loop (mean ± std. dev. of 7 runs, 1 loop each)\n",
      "Unweighted version, faster:\n",
      "95 ms ± 676 µs per loop (mean ± std. dev. of 7 runs, 10 loops each)\n"
     ]
    }
   ],
   "source": [
    "# test performance on both verions\n",
    "print(\"Weighted version, slower:\")\n",
    "%timeit cppLocalPageRank_weight(A_weighted, c=0.85, return_only_neighbours=True)\n",
    "print(\"Unweighted version, faster:\")\n",
    "%timeit cppLocalPageRank(A, c=0.85, return_only_neighbours=True)"
   ]
  },
  {
   "cell_type": "code",
   "execution_count": 7,
   "metadata": {},
   "outputs": [
    {
     "name": "stdout",
     "output_type": "stream",
     "text": [
      "Difference between Local PageRank Computations: 0.0\n"
     ]
    },
    {
     "data": {
      "image/png": "[encoded data removed]",
      "text/plain": [
       "<Figure size 432x288 with 2 Axes>"
      ]
     },
     "metadata": {
      "needs_background": "light"
     },
     "output_type": "display_data"
    }
   ],
   "source": [
    "# generate the L matrix, assuming both weighted and unweighted input\n",
    "L_weighted = cppLocalPageRank_weight(A_weighted, c=0.85, return_only_neighbours=True)\n",
    "L = cppLocalPageRank(A, c=0.85, return_only_neighbours=True)\n",
    "\n",
    "# convert to numpy matrix, to visually check the results\n",
    "L_weighted_mat = list2matrix(L_weighted)\n",
    "L_mat = list2matrix(L)\n",
    "\n",
    "# plot the matrices' spy \n",
    "fig, axs = plt.subplots(1, 2)\n",
    "axs[0].spy(L_weighted_mat)\n",
    "axs[1].spy(L_mat)\n",
    "\n",
    "# and print the difference to check that the same result was obtained\n",
    "print(\"Difference between Local PageRank Computations:\",np.linalg.norm(L_mat-L_weighted_mat))"
   ]
  },
  {
   "cell_type": "code",
   "execution_count": null,
   "metadata": {},
   "outputs": [],
   "source": []
  },
  {
   "cell_type": "code",
   "execution_count": null,
   "metadata": {},
   "outputs": [],
   "source": []
  }
 ],
 "metadata": {
  "kernelspec": {
   "display_name": "Python 3",
   "language": "python",
   "name": "python3"
  },
  "language_info": {
   "codemirror_mode": {
    "name": "ipython",
    "version": 3
   },
   "file_extension": ".py",
   "mimetype": "text/x-python",
   "name": "python",
   "nbconvert_exporter": "python",
   "pygments_lexer": "ipython3",
   "version": "3.7.1"
  }
 },
 "nbformat": 4,
 "nbformat_minor": 2
}
