{
 "cells": [
  {
   "cell_type": "code",
   "execution_count": 1,
   "metadata": {},
   "outputs": [],
   "source": [
    "from libs.edgelistParser import edgelistParser,list2matrix\n",
    "from libs.approximateSimrank import approximateSimrank\n",
    "from matplotlib import pyplot as plt\n",
    "import numpy as np\n",
    "A, N, D = edgelistParser(\"../datasets/facebook/0.edges\")"
   ]
  },
  {
   "cell_type": "code",
   "execution_count": 2,
   "metadata": {},
   "outputs": [
    {
     "name": "stdout",
     "output_type": "stream",
     "text": [
      "5038\n"
     ]
    },
    {
     "data": {
      "text/plain": [
       "<matplotlib.image.AxesImage at 0x120633b50>"
      ]
     },
     "execution_count": 2,
     "metadata": {},
     "output_type": "execute_result"
    },
    {
     "data": {
      "image/png": "[encoded data removed]",
      "text/plain": [
       "<Figure size 432x288 with 1 Axes>"
      ]
     },
     "metadata": {
      "needs_background": "light"
     },
     "output_type": "display_data"
    }
   ],
   "source": [
    "# Let's convert the edge list to a dense matrix\n",
    "A_mat = list2matrix(A)\n",
    "plt.spy(A_mat)\n",
    "#Simmetry check (we work on undirect graph)\n",
    "print(np.sum(A_mat == A_mat.T))"
   ]
  },
  {
   "cell_type": "code",
   "execution_count": 14,
   "metadata": {},
   "outputs": [],
   "source": [
    "# This function creates the L matrix iterating locally the approximate simrank\n",
    "def localPageRank(A,N,D,c):\n",
    "    L = np.zeros((N,N))\n",
    "    for i,node in enumerate(A):\n",
    "        p = approximateSimrank(A, N, D, i, c, 1e-5)\n",
    "        for neighbour in node:\n",
    "            L[i,neighbour[0]] = p[neighbour[0]]\n",
    "    return L"
   ]
  },
  {
   "cell_type": "code",
   "execution_count": 15,
   "metadata": {},
   "outputs": [],
   "source": [
    "# Pagerank teleportation constant\n",
    "c = 0.85\n",
    "L = localPageRank(A, N, D, c)"
   ]
  },
  {
   "cell_type": "code",
   "execution_count": null,
   "metadata": {},
   "outputs": [],
   "source": []
  }
 ],
 "metadata": {
  "kernelspec": {
   "display_name": "Python 3",
   "language": "python",
   "name": "python3"
  },
  "language_info": {
   "codemirror_mode": {
    "name": "ipython",
    "version": 3
   },
   "file_extension": ".py",
   "mimetype": "text/x-python",
   "name": "python",
   "nbconvert_exporter": "python",
   "pygments_lexer": "ipython3",
   "version": "3.7.4"
  }
 },
 "nbformat": 4,
 "nbformat_minor": 2
}
